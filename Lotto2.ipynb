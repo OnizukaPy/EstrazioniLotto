{
 "cells": [
  {
   "cell_type": "code",
   "execution_count": 125,
   "metadata": {},
   "outputs": [],
   "source": [
    "# importazione delle librerie\n",
    "import pandas as pd\n",
    "import pandas_ta as ta\n",
    "import numpy as np\n",
    "import funzioni as fn\n",
    "import matplotlib.pyplot as plt\n",
    "from pprint import pprint\n",
    "from itertools import combinations, permutations\n",
    "\n",
    "# importiamo il path\n",
    "import os\n",
    "from funzioni import PATH, PATH_ESTR"
   ]
  },
  {
   "cell_type": "markdown",
   "metadata": {},
   "source": [
    "CREIAMO LA NOSTRA CLASSE PER IL GIOCO DEL LOTTO"
   ]
  },
  {
   "cell_type": "code",
   "execution_count": 51,
   "metadata": {},
   "outputs": [],
   "source": [
    "# funzione per dire quando e' uscito un numero\n",
    "def uscite(df, numero):\n",
    "    # prendiamo l'indice della riga che contiene un valore in una determinata colonna\n",
    "    uscite = np.array([])\n",
    "    for i in df.columns[2:]:\n",
    "        # aggiungi l'indice della riga che contiene il valore 58 nella colonna i\n",
    "        uscite = np.append(uscite, df[df[i] == str(numero)].index.values.astype(int))\n",
    "    # aggiungiamo ad ogni valore della lista il valore 1\n",
    "    uscite = np.sort(uscite + 1)\n",
    "\n",
    "    return uscite\n"
   ]
  },
  {
   "cell_type": "code",
   "execution_count": 89,
   "metadata": {},
   "outputs": [],
   "source": [
    "def ritardi(df, numero):\n",
    "\n",
    "    u = uscite(df, numero)\n",
    "    # calcuiamo la differenza tra ogni valore della lista e il successivo\n",
    "    ritardi = np.diff(u)\n",
    "    # inseriamo al primo posto il valore 0\n",
    "    ritardi = np.insert(ritardi, 0, 0)\n",
    "\n",
    "    return ritardi"
   ]
  },
  {
   "cell_type": "code",
   "execution_count": 135,
   "metadata": {},
   "outputs": [],
   "source": [
    "class Lotto:\n",
    "\n",
    "    def __init__(self, path=PATH_ESTR):\n",
    "        \"\"\"Di default il path e' la cartella estrazioni\"\"\"\n",
    "        self.ruota = None\n",
    "        self.df = None\n",
    "        self.numero = None\n",
    "        self.path = path\n",
    "\n",
    "    def carica_estrazioni(self, ruota):\n",
    "        r = self.path+ruota+'.csv'\n",
    "        estrazioni = fn.leggi_da_csv(r)\n",
    "        df = pd.DataFrame(estrazioni[1:], columns=estrazioni[0])\n",
    "        return df\n",
    "\n",
    "    def carica_numero(self, numero, ruota):\n",
    "\n",
    "        self.ruota = ruota\n",
    "        self.df = self.carica_estrazioni(self.ruota)\n",
    "        self.numero = numero\n",
    "        \n",
    "        # calcoliamo le posizioni di indice delle uscite del numero\n",
    "        self.elenco_uscite = uscite(self.df, self.numero)\n",
    "        # il numero totali delle volte che e' uscito e' dato dalla lunghezza della lista\n",
    "        self.n_uscite = len(self.elenco_uscite)\n",
    "        # il totale delle estrazioni e' dato dalla lunghezza del dataframe\n",
    "        self.totale_estrazioni = len(self.df)\n",
    "        # il vettore delle frequenze e' dato dal vettore del numero di uscite diviso il vettore dell'indice del vettore stesso + 1\n",
    "        self.frequenze = self.elenco_uscite / (np.arange(len(self.elenco_uscite))+1)\n",
    "        # la frequenza media (ultima frequenza o frequenza attuale) e' data dal totale delle estrazioni diviso il numero di uscite\n",
    "        self.ultima_frequenza = round(float(self.totale_estrazioni/self.n_uscite), 2)\n",
    "        # l'elenco dei ritardi e' dato dal vettore dei ritardi\n",
    "        self.ritardi = ritardi(self.df, self.numero)\n",
    "        # il ritardo attuale e' dato dalla differenza tra il totale delle estrazioni e l'indice l'ultima uscita\n",
    "        self.ritardo_attuale = self.totale_estrazioni - self.elenco_uscite[-1]\n",
    "        # calcoliamo il ritardo massimo storico\n",
    "        self.ritardo_massimo = self.ritardi.max()\n",
    "        # salviamo l'ultimo ritardo\n",
    "        self.ultimo_ritardo = self.ritardi[-1]\n",
    "        # calcoliamo la scompensazione\n",
    "        self.scompensazioni = self.ritardi - self.frequenze\n",
    "        # calcoliamo la scompensazione attuale e l'ultima scompensazione\n",
    "        self.ultima_scompensazione = self.scompensazioni.sum()\n",
    "        self.scompensazione_attuale = self.ultima_scompensazione + (self.ritardo_attuale - self.ultima_frequenza)\n",
    "        # salviamo le statistiche in un dizionario\n",
    "        self.statistiche = {\n",
    "            'ruota': self.ruota,\n",
    "            'numero': self.numero,\n",
    "            'n_uscite': self.n_uscite,\n",
    "            'totale_estrazioni': self.totale_estrazioni,\n",
    "            'ultima_frequenza': self.ultima_frequenza,\n",
    "            'ritardo_attuale': self.ritardo_attuale,\n",
    "            'ritardo_massimo': self.ritardo_massimo,\n",
    "            'ultimo_ritardo': self.ultimo_ritardo,\n",
    "            'ultima_scompensazione': self.ultima_scompensazione,\n",
    "            'scompensazione_attuale': self.scompensazione_attuale\n",
    "        }\n",
    "    def stampa_statistihe(self):\n",
    "        \n",
    "        for k, v in self.statistiche.items():\n",
    "            print(f'{k}: {v}')\n"
   ]
  },
  {
   "cell_type": "code",
   "execution_count": 132,
   "metadata": {},
   "outputs": [],
   "source": [
    "# leggiamo il file csv delle estrazioni di Bari\n",
    "a = Lotto()"
   ]
  },
  {
   "cell_type": "code",
   "execution_count": 133,
   "metadata": {},
   "outputs": [
    {
     "name": "stdout",
     "output_type": "stream",
     "text": [
      "ruota: BA\n",
      "numero: 58\n",
      "n_uscite: 385\n",
      "totale_estrazioni: 6723\n",
      "ultima_frequenza: 17.46\n",
      "ritardo_attuale: 5.0\n",
      "ritardo_massimo: 115.0\n",
      "ultima_scompensazione: 185.5348877738894\n",
      "scompensazione_attuale: 173.0748877738894\n"
     ]
    }
   ],
   "source": [
    "a.carica_numero(58, 'BA')\n",
    "a.stampa_statistihe()"
   ]
  },
  {
   "cell_type": "code",
   "execution_count": 136,
   "metadata": {},
   "outputs": [
    {
     "name": "stdout",
     "output_type": "stream",
     "text": [
      "9.0 185.5348877738894\n"
     ]
    }
   ],
   "source": [
    "b = Lotto(path=PATH)\n",
    "b.carica_numero(58, 'temp')\n",
    "print(b.ultimo_ritardo, b.ultima_scompensazione)\n"
   ]
  },
  {
   "cell_type": "code",
   "execution_count": 192,
   "metadata": {},
   "outputs": [
    {
     "ename": "KeyboardInterrupt",
     "evalue": "",
     "output_type": "error",
     "traceback": [
      "\u001b[0;31m---------------------------------------------------------------------------\u001b[0m",
      "\u001b[0;31mKeyboardInterrupt\u001b[0m                         Traceback (most recent call last)",
      "\u001b[1;32m/home/onizuka-host/Zoho WorkDrive (Catalano Consulenze Tecniche)/My Folders/Documenti personali_/Partita IVA/Programming/Lotto/EstrazioniLotto/Lotto2.ipynb Cell 9\u001b[0m in \u001b[0;36m2\n\u001b[1;32m     <a href='vscode-notebook-cell:/home/onizuka-host/Zoho%20WorkDrive%20%28Catalano%20Consulenze%20Tecniche%29/My%20Folders/Documenti%20personali_/Partita%20IVA/Programming/Lotto/EstrazioniLotto/Lotto2.ipynb#X21sZmlsZQ%3D%3D?line=17'>18</a>\u001b[0m l \u001b[39m=\u001b[39m \u001b[39mlist\u001b[39m(df_temp\u001b[39m.\u001b[39miloc[\u001b[39m-\u001b[39m\u001b[39m1\u001b[39m]\u001b[39m.\u001b[39mvalues)\n\u001b[1;32m     <a href='vscode-notebook-cell:/home/onizuka-host/Zoho%20WorkDrive%20%28Catalano%20Consulenze%20Tecniche%29/My%20Folders/Documenti%20personali_/Partita%20IVA/Programming/Lotto/EstrazioniLotto/Lotto2.ipynb#X21sZmlsZQ%3D%3D?line=18'>19</a>\u001b[0m \u001b[39mfor\u001b[39;00m i \u001b[39min\u001b[39;00m df_temp\u001b[39m.\u001b[39miloc[\u001b[39m-\u001b[39m\u001b[39m1\u001b[39m, \u001b[39m2\u001b[39m:]\u001b[39m.\u001b[39mvalues:\n\u001b[0;32m---> <a href='vscode-notebook-cell:/home/onizuka-host/Zoho%20WorkDrive%20%28Catalano%20Consulenze%20Tecniche%29/My%20Folders/Documenti%20personali_/Partita%20IVA/Programming/Lotto/EstrazioniLotto/Lotto2.ipynb#X21sZmlsZQ%3D%3D?line=19'>20</a>\u001b[0m     n\u001b[39m.\u001b[39;49mcarica_numero(i, \u001b[39m'\u001b[39;49m\u001b[39mtemp\u001b[39;49m\u001b[39m'\u001b[39;49m)\n\u001b[1;32m     <a href='vscode-notebook-cell:/home/onizuka-host/Zoho%20WorkDrive%20%28Catalano%20Consulenze%20Tecniche%29/My%20Folders/Documenti%20personali_/Partita%20IVA/Programming/Lotto/EstrazioniLotto/Lotto2.ipynb#X21sZmlsZQ%3D%3D?line=20'>21</a>\u001b[0m     l\u001b[39m.\u001b[39mappend(n\u001b[39m.\u001b[39multimo_ritardo)\n\u001b[1;32m     <a href='vscode-notebook-cell:/home/onizuka-host/Zoho%20WorkDrive%20%28Catalano%20Consulenze%20Tecniche%29/My%20Folders/Documenti%20personali_/Partita%20IVA/Programming/Lotto/EstrazioniLotto/Lotto2.ipynb#X21sZmlsZQ%3D%3D?line=21'>22</a>\u001b[0m     l\u001b[39m.\u001b[39mappend(n\u001b[39m.\u001b[39multima_scompensazione)\n",
      "\u001b[1;32m/home/onizuka-host/Zoho WorkDrive (Catalano Consulenze Tecniche)/My Folders/Documenti personali_/Partita IVA/Programming/Lotto/EstrazioniLotto/Lotto2.ipynb Cell 9\u001b[0m in \u001b[0;36m2\n\u001b[1;32m     <a href='vscode-notebook-cell:/home/onizuka-host/Zoho%20WorkDrive%20%28Catalano%20Consulenze%20Tecniche%29/My%20Folders/Documenti%20personali_/Partita%20IVA/Programming/Lotto/EstrazioniLotto/Lotto2.ipynb#X21sZmlsZQ%3D%3D?line=19'>20</a>\u001b[0m \u001b[39mself\u001b[39m\u001b[39m.\u001b[39mnumero \u001b[39m=\u001b[39m numero\n\u001b[1;32m     <a href='vscode-notebook-cell:/home/onizuka-host/Zoho%20WorkDrive%20%28Catalano%20Consulenze%20Tecniche%29/My%20Folders/Documenti%20personali_/Partita%20IVA/Programming/Lotto/EstrazioniLotto/Lotto2.ipynb#X21sZmlsZQ%3D%3D?line=21'>22</a>\u001b[0m \u001b[39m# calcoliamo le posizioni di indice delle uscite del numero\u001b[39;00m\n\u001b[0;32m---> <a href='vscode-notebook-cell:/home/onizuka-host/Zoho%20WorkDrive%20%28Catalano%20Consulenze%20Tecniche%29/My%20Folders/Documenti%20personali_/Partita%20IVA/Programming/Lotto/EstrazioniLotto/Lotto2.ipynb#X21sZmlsZQ%3D%3D?line=22'>23</a>\u001b[0m \u001b[39mself\u001b[39m\u001b[39m.\u001b[39melenco_uscite \u001b[39m=\u001b[39m uscite(\u001b[39mself\u001b[39;49m\u001b[39m.\u001b[39;49mdf, \u001b[39mself\u001b[39;49m\u001b[39m.\u001b[39;49mnumero)\n\u001b[1;32m     <a href='vscode-notebook-cell:/home/onizuka-host/Zoho%20WorkDrive%20%28Catalano%20Consulenze%20Tecniche%29/My%20Folders/Documenti%20personali_/Partita%20IVA/Programming/Lotto/EstrazioniLotto/Lotto2.ipynb#X21sZmlsZQ%3D%3D?line=23'>24</a>\u001b[0m \u001b[39m# il numero totali delle volte che e' uscito e' dato dalla lunghezza della lista\u001b[39;00m\n\u001b[1;32m     <a href='vscode-notebook-cell:/home/onizuka-host/Zoho%20WorkDrive%20%28Catalano%20Consulenze%20Tecniche%29/My%20Folders/Documenti%20personali_/Partita%20IVA/Programming/Lotto/EstrazioniLotto/Lotto2.ipynb#X21sZmlsZQ%3D%3D?line=24'>25</a>\u001b[0m \u001b[39mself\u001b[39m\u001b[39m.\u001b[39mn_uscite \u001b[39m=\u001b[39m \u001b[39mlen\u001b[39m(\u001b[39mself\u001b[39m\u001b[39m.\u001b[39melenco_uscite)\n",
      "\u001b[1;32m/home/onizuka-host/Zoho WorkDrive (Catalano Consulenze Tecniche)/My Folders/Documenti personali_/Partita IVA/Programming/Lotto/EstrazioniLotto/Lotto2.ipynb Cell 9\u001b[0m in \u001b[0;36m7\n\u001b[1;32m      <a href='vscode-notebook-cell:/home/onizuka-host/Zoho%20WorkDrive%20%28Catalano%20Consulenze%20Tecniche%29/My%20Folders/Documenti%20personali_/Partita%20IVA/Programming/Lotto/EstrazioniLotto/Lotto2.ipynb#X21sZmlsZQ%3D%3D?line=3'>4</a>\u001b[0m uscite \u001b[39m=\u001b[39m np\u001b[39m.\u001b[39marray([])\n\u001b[1;32m      <a href='vscode-notebook-cell:/home/onizuka-host/Zoho%20WorkDrive%20%28Catalano%20Consulenze%20Tecniche%29/My%20Folders/Documenti%20personali_/Partita%20IVA/Programming/Lotto/EstrazioniLotto/Lotto2.ipynb#X21sZmlsZQ%3D%3D?line=4'>5</a>\u001b[0m \u001b[39mfor\u001b[39;00m i \u001b[39min\u001b[39;00m df\u001b[39m.\u001b[39mcolumns[\u001b[39m2\u001b[39m:]:\n\u001b[1;32m      <a href='vscode-notebook-cell:/home/onizuka-host/Zoho%20WorkDrive%20%28Catalano%20Consulenze%20Tecniche%29/My%20Folders/Documenti%20personali_/Partita%20IVA/Programming/Lotto/EstrazioniLotto/Lotto2.ipynb#X21sZmlsZQ%3D%3D?line=5'>6</a>\u001b[0m     \u001b[39m# aggiungi l'indice della riga che contiene il valore 58 nella colonna i\u001b[39;00m\n\u001b[0;32m----> <a href='vscode-notebook-cell:/home/onizuka-host/Zoho%20WorkDrive%20%28Catalano%20Consulenze%20Tecniche%29/My%20Folders/Documenti%20personali_/Partita%20IVA/Programming/Lotto/EstrazioniLotto/Lotto2.ipynb#X21sZmlsZQ%3D%3D?line=6'>7</a>\u001b[0m     uscite \u001b[39m=\u001b[39m np\u001b[39m.\u001b[39mappend(uscite, df[df[i] \u001b[39m==\u001b[39m \u001b[39mstr\u001b[39m(numero)]\u001b[39m.\u001b[39mindex\u001b[39m.\u001b[39mvalues\u001b[39m.\u001b[39mastype(\u001b[39mint\u001b[39m))\n\u001b[1;32m      <a href='vscode-notebook-cell:/home/onizuka-host/Zoho%20WorkDrive%20%28Catalano%20Consulenze%20Tecniche%29/My%20Folders/Documenti%20personali_/Partita%20IVA/Programming/Lotto/EstrazioniLotto/Lotto2.ipynb#X21sZmlsZQ%3D%3D?line=7'>8</a>\u001b[0m \u001b[39m# aggiungiamo ad ogni valore della lista il valore 1\u001b[39;00m\n\u001b[1;32m      <a href='vscode-notebook-cell:/home/onizuka-host/Zoho%20WorkDrive%20%28Catalano%20Consulenze%20Tecniche%29/My%20Folders/Documenti%20personali_/Partita%20IVA/Programming/Lotto/EstrazioniLotto/Lotto2.ipynb#X21sZmlsZQ%3D%3D?line=8'>9</a>\u001b[0m uscite \u001b[39m=\u001b[39m np\u001b[39m.\u001b[39msort(uscite \u001b[39m+\u001b[39m \u001b[39m1\u001b[39m)\n",
      "File \u001b[0;32m~/.local/lib/python3.10/site-packages/pandas/core/frame.py:3427\u001b[0m, in \u001b[0;36mDataFrame.__getitem__\u001b[0;34m(self, key)\u001b[0m\n\u001b[1;32m   3425\u001b[0m         \u001b[39mif\u001b[39;00m \u001b[39misinstance\u001b[39m(\u001b[39mself\u001b[39m\u001b[39m.\u001b[39mcolumns, MultiIndex):\n\u001b[1;32m   3426\u001b[0m             \u001b[39mreturn\u001b[39;00m \u001b[39mself\u001b[39m\u001b[39m.\u001b[39m_getitem_multilevel(key)\n\u001b[0;32m-> 3427\u001b[0m         \u001b[39mreturn\u001b[39;00m \u001b[39mself\u001b[39;49m\u001b[39m.\u001b[39;49m_get_item_cache(key)\n\u001b[1;32m   3429\u001b[0m \u001b[39m# Do we have a slicer (on rows)?\u001b[39;00m\n\u001b[1;32m   3430\u001b[0m indexer \u001b[39m=\u001b[39m convert_to_index_sliceable(\u001b[39mself\u001b[39m, key)\n",
      "File \u001b[0;32m~/.local/lib/python3.10/site-packages/pandas/core/frame.py:3885\u001b[0m, in \u001b[0;36mDataFrame._get_item_cache\u001b[0;34m(self, item)\u001b[0m\n\u001b[1;32m   3880\u001b[0m \u001b[39mif\u001b[39;00m res \u001b[39mis\u001b[39;00m \u001b[39mNone\u001b[39;00m:\n\u001b[1;32m   3881\u001b[0m     \u001b[39m# All places that call _get_item_cache have unique columns,\u001b[39;00m\n\u001b[1;32m   3882\u001b[0m     \u001b[39m#  pending resolution of GH#33047\u001b[39;00m\n\u001b[1;32m   3884\u001b[0m     loc \u001b[39m=\u001b[39m \u001b[39mself\u001b[39m\u001b[39m.\u001b[39mcolumns\u001b[39m.\u001b[39mget_loc(item)\n\u001b[0;32m-> 3885\u001b[0m     values \u001b[39m=\u001b[39m \u001b[39mself\u001b[39;49m\u001b[39m.\u001b[39;49m_mgr\u001b[39m.\u001b[39;49miget(loc)\n\u001b[1;32m   3886\u001b[0m     res \u001b[39m=\u001b[39m \u001b[39mself\u001b[39m\u001b[39m.\u001b[39m_box_col_values(values, loc)\u001b[39m.\u001b[39m__finalize__(\u001b[39mself\u001b[39m)\n\u001b[1;32m   3888\u001b[0m     cache[item] \u001b[39m=\u001b[39m res\n",
      "File \u001b[0;32m~/.local/lib/python3.10/site-packages/pandas/core/internals/managers.py:981\u001b[0m, in \u001b[0;36mBlockManager.iget\u001b[0;34m(self, i)\u001b[0m\n\u001b[1;32m    977\u001b[0m \u001b[39mdef\u001b[39;00m \u001b[39miget\u001b[39m(\u001b[39mself\u001b[39m, i: \u001b[39mint\u001b[39m) \u001b[39m-\u001b[39m\u001b[39m>\u001b[39m SingleBlockManager:\n\u001b[1;32m    978\u001b[0m     \u001b[39m\"\"\"\u001b[39;00m\n\u001b[1;32m    979\u001b[0m \u001b[39m    Return the data as a SingleBlockManager.\u001b[39;00m\n\u001b[1;32m    980\u001b[0m \u001b[39m    \"\"\"\u001b[39;00m\n\u001b[0;32m--> 981\u001b[0m     block \u001b[39m=\u001b[39m \u001b[39mself\u001b[39m\u001b[39m.\u001b[39mblocks[\u001b[39mself\u001b[39;49m\u001b[39m.\u001b[39;49mblknos[i]]\n\u001b[1;32m    982\u001b[0m     values \u001b[39m=\u001b[39m block\u001b[39m.\u001b[39miget(\u001b[39mself\u001b[39m\u001b[39m.\u001b[39mblklocs[i])\n\u001b[1;32m    984\u001b[0m     \u001b[39m# shortcut for select a single-dim from a 2-dim BM\u001b[39;00m\n",
      "File \u001b[0;32m~/.local/lib/python3.10/site-packages/pandas/core/internals/managers.py:168\u001b[0m, in \u001b[0;36mBaseBlockManager.blknos\u001b[0;34m(self)\u001b[0m\n\u001b[1;32m    158\u001b[0m \u001b[39m@property\u001b[39m\n\u001b[1;32m    159\u001b[0m \u001b[39mdef\u001b[39;00m \u001b[39mblknos\u001b[39m(\u001b[39mself\u001b[39m):\n\u001b[1;32m    160\u001b[0m     \u001b[39m\"\"\"\u001b[39;00m\n\u001b[1;32m    161\u001b[0m \u001b[39m    Suppose we want to find the array corresponding to our i'th column.\u001b[39;00m\n\u001b[1;32m    162\u001b[0m \n\u001b[0;32m   (...)\u001b[0m\n\u001b[1;32m    166\u001b[0m \u001b[39m    self.blocks[self.blknos[i]]\u001b[39;00m\n\u001b[1;32m    167\u001b[0m \u001b[39m    \"\"\"\u001b[39;00m\n\u001b[0;32m--> 168\u001b[0m     \u001b[39mif\u001b[39;00m \u001b[39mself\u001b[39m\u001b[39m.\u001b[39m_blknos \u001b[39mis\u001b[39;00m \u001b[39mNone\u001b[39;00m:\n\u001b[1;32m    169\u001b[0m         \u001b[39m# Note: these can be altered by other BlockManager methods.\u001b[39;00m\n\u001b[1;32m    170\u001b[0m         \u001b[39mself\u001b[39m\u001b[39m.\u001b[39m_rebuild_blknos_and_blklocs()\n\u001b[1;32m    172\u001b[0m     \u001b[39mreturn\u001b[39;00m \u001b[39mself\u001b[39m\u001b[39m.\u001b[39m_blknos\n",
      "\u001b[0;31mKeyboardInterrupt\u001b[0m: "
     ]
    }
   ],
   "source": [
    "import time\n",
    "n = Lotto(path=PATH)\n",
    "\n",
    "bari = fn.leggi_da_csv(PATH_ESTR+'BA.csv')\n",
    "df_bari = pd.DataFrame(bari[1:], columns=bari[0])\n",
    "# creiamo un array a 2 dimensioni\n",
    "t = []\n",
    "for i in range(50, len(df_bari)):\n",
    "    # eliminare il file temp.csv\n",
    "    os.remove(PATH+'temp.csv')\n",
    "    p = df_bari[:i]\n",
    "    p.set_index('Data', inplace=True)\n",
    "    p.to_csv(PATH+'temp.csv')\n",
    "    temp = fn.leggi_da_csv(PATH+'temp.csv')\n",
    "    df_temp = pd.DataFrame(temp[1:], columns=temp[0])\n",
    "    \n",
    "    # prendiamo i valori delle ultime 5 colonne dell'ultima riga\n",
    "    l = list(df_temp.iloc[-1].values)\n",
    "    for i in df_temp.iloc[-1, 2:].values:\n",
    "        n.carica_numero(i, 'temp')\n",
    "        l.append(n.ultimo_ritardo)\n",
    "        l.append(n.ultima_scompensazione)\n",
    "    \n",
    "    # aggiungiamo alla matrice t la riga l\n",
    "    t.append(l)\n",
    "\n",
    "# trasformiamo la matrice t in un dataframe\n",
    "df = pd.DataFrame(t, columns=['Data', 'Ruota', '1', '2', '3', '4', '5', '2_ritardo', '2_scompensazione', '3_ritardo', '3_scompensazione', '4_ritardo', '4_scompensazione', '5_ritardo', '5_scompensazione'])\n",
    "df.to_csv(PATH+'dati.csv')\n"
   ]
  },
  {
   "cell_type": "markdown",
   "metadata": {},
   "source": [
    "capire come semplicificare la classe per renderla csv indipendente\n",
    "semplificare il loop per fare il dataframe con le scomp e i rit"
   ]
  }
 ],
 "metadata": {
  "kernelspec": {
   "display_name": "Python 3",
   "language": "python",
   "name": "python3"
  },
  "language_info": {
   "codemirror_mode": {
    "name": "ipython",
    "version": 3
   },
   "file_extension": ".py",
   "mimetype": "text/x-python",
   "name": "python",
   "nbconvert_exporter": "python",
   "pygments_lexer": "ipython3",
   "version": "3.10.6"
  },
  "orig_nbformat": 4
 },
 "nbformat": 4,
 "nbformat_minor": 2
}
