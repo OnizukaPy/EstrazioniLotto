{
 "cells": [
  {
   "cell_type": "code",
   "execution_count": 1,
   "metadata": {},
   "outputs": [],
   "source": [
    "# importazione delle librerie\n",
    "import pandas as pd\n",
    "import pandas_ta as ta\n",
    "import numpy as np\n",
    "import funzioni as fn\n",
    "\n",
    "# importiamo il path\n",
    "from funzioni import PATH, PATH_ESTR\n",
    "from itertools import combinations, permutations"
   ]
  },
  {
   "cell_type": "markdown",
   "metadata": {},
   "source": [
    "CREIAMO LA NOSTRA CLASSE PER IL GIOCO DEL LOTTO"
   ]
  },
  {
   "cell_type": "code",
   "execution_count": 2,
   "metadata": {},
   "outputs": [],
   "source": [
    "# funzione per dire quando e' uscito un numero\n",
    "def uscite(df, numero):\n",
    "    # prendiamo l'indice della riga che contiene un valore in una determinata colonna\n",
    "    # la variabile numero e' una lista di numeri\n",
    "    numeri = np.array(numero)\n",
    "    uscite = np.array([])\n",
    "    if len(numeri) == 1:\n",
    "        for i in df.columns[2:]:\n",
    "            # aggiungi l'indice della riga che contiene il valore 58 nella colonna i\n",
    "            uscite = np.append(uscite, df[df[i] == str(numeri[0])].index.values.astype(int))\n",
    "    elif len(numeri) > 1:\n",
    "\n",
    "        for i in range(len(df)):\n",
    "            # prendiamo la riga i-esima con le colonne dalla 2 alla 8\n",
    "            riga = df.iloc[i, 2:]\n",
    "            \n",
    "            # preniamo tutte le possibili combianzioni di numeri e le mettiamo in una lista\n",
    "            # e poi verifichiamo se sono uscite\n",
    "            for j in permutations(riga, len(numeri)):\n",
    "                \n",
    "                # convertiamo l´array numeri in una turpla di stringhe\n",
    "                numeri = tuple(map(str, numeri))\n",
    "                if j == numeri:\n",
    "                    uscite = np.append(uscite, i)\n",
    "                     \n",
    "    \n",
    "    # aggiungiamo ad ogni valore della lista il valore 1\n",
    "    uscite = np.sort(uscite + 1)\n",
    "\n",
    "    return uscite\n"
   ]
  },
  {
   "cell_type": "code",
   "execution_count": 3,
   "metadata": {},
   "outputs": [],
   "source": [
    "def ritardi(df, numero):\n",
    "\n",
    "    u = uscite(df, numero)\n",
    "    # calcuiamo la differenza tra ogni valore della lista e il successivo\n",
    "    ritardi = np.diff(u)\n",
    "    # inseriamo al primo posto il valore 0\n",
    "    ritardi = np.insert(ritardi, 0, 0)\n",
    "\n",
    "    return ritardi"
   ]
  },
  {
   "cell_type": "code",
   "execution_count": 7,
   "metadata": {},
   "outputs": [],
   "source": [
    "class Lotto:\n",
    "\n",
    "    def __init__(self, path=PATH_ESTR):\n",
    "        \"\"\"Di default il path e' la cartella estrazioni\"\"\"\n",
    "        self.ruota = None\n",
    "        self.df = None\n",
    "        self.numero = None\n",
    "        self.path = path\n",
    "\n",
    "    def carica_estrazioni(self, ruota):\n",
    "        \"\"\"Carica le estrazioni di una ruota in un dataframe\"\"\"\n",
    "        r = self.path+ruota+'.csv'\n",
    "        estrazioni = fn.leggi_da_csv(r)\n",
    "        df = pd.DataFrame(estrazioni[1:], columns=estrazioni[0])\n",
    "        # eliminiamo le righe duplicate\n",
    "        df.drop_duplicates(inplace=True)\n",
    "        self.ruota = ruota\n",
    "        return df\n",
    "\n",
    "    def carica_numero(self, numero, df, n_estr=10):\n",
    "        \"\"\"\n",
    "        Elabora le informazioni statistiche sul numero e sui numeri inseiriti\n",
    "        Il numero va inserito come [] di numeri interi\n",
    "        \"\"\"\n",
    "        self.df = df\n",
    "        self.n_estr = n_estr\n",
    "        self.numero = numero\n",
    "        # il totale delle estrazioni e' dato dalla lunghezza del dataframe\n",
    "        self.totale_estrazioni = len(self.df)\n",
    "        # calcoliamo le posizioni di indice delle uscite del numero\n",
    "        self.elenco_uscite = uscite(self.df, self.numero)\n",
    "        # il numero totali delle volte che e' uscito e' dato dalla lunghezza della lista\n",
    "        self.n_uscite = len(self.elenco_uscite)\n",
    "        if self.n_uscite > 0:\n",
    "            # il vettore delle frequenze e' dato dal vettore del numero di uscite diviso il vettore dell'indice del vettore stesso + 1\n",
    "            self.frequenze = self.elenco_uscite / (np.arange(len(self.elenco_uscite))+1)\n",
    "            # la frequenza media (ultima frequenza o frequenza attuale) e' data dal totale delle estrazioni diviso il numero di uscite\n",
    "            self.ultima_frequenza = round(float(self.totale_estrazioni/self.n_uscite), 2)\n",
    "            # l'elenco dei ritardi e' dato dal vettore dei ritardi\n",
    "            self.ritardi = ritardi(self.df, self.numero)\n",
    "            # il ritardo attuale e' dato dalla differenza tra il totale delle estrazioni e l'indice l'ultima uscita\n",
    "            self.ritardo_attuale = self.totale_estrazioni - self.elenco_uscite[-1]\n",
    "            # calcoliamo il ritardo massimo storico\n",
    "            self.ritardo_massimo = self.ritardi.max()\n",
    "            # salviamo l'ultimo ritardo\n",
    "            self.ultimo_ritardo = self.ritardi[-1]\n",
    "            # calcoliamo la scompensazione\n",
    "            self.scompensazioni = self.ritardi - self.frequenze\n",
    "            # calcoliamo la scompensazione attuale e l'ultima scompensazione\n",
    "            self.ultima_scompensazione = self.scompensazioni.sum()\n",
    "            self.scompensazione_attuale = self.ultima_scompensazione + (self.ritardo_attuale - self.ultima_frequenza)     \n",
    "            # calcoliamo le spie\n",
    "            self.spia_num, self.spia_rip = self.spia()\n",
    "            # salviamo le statistiche in un dizionario\n",
    "        else:\n",
    "            self.frequenze = np.NaN\n",
    "            self.ultima_frequenza = np.NaN\n",
    "            self.ritardi = np.NaN\n",
    "            self.ritardo_attuale = np.NaN\n",
    "            self.ritardo_massimo = np.NaN\n",
    "            self.ultimo_ritardo = np.NaN\n",
    "            self.scompensazioni = np.NaN\n",
    "            self.ultima_scompensazione = np.NaN\n",
    "            self.scompensazione_attuale = np.NaN\n",
    "            self.spia_num, self.spia_rip, self.spia_estr = np.NaN, np.NaN, np.NaN\n",
    "            print(f'{self.numero}, non è mai uscito')\n",
    "\n",
    "        self.statistiche = {\n",
    "            'ruota': self.ruota,\n",
    "            'numero': self.numero,\n",
    "            'n_uscite': self.n_uscite,\n",
    "            'totale_estrazioni': self.totale_estrazioni,\n",
    "            'ultima_frequenza': self.ultima_frequenza,\n",
    "            'ritardo_attuale': self.ritardo_attuale,\n",
    "            'ritardo_massimo': self.ritardo_massimo,\n",
    "            'ultimo_ritardo': self.ultimo_ritardo,\n",
    "            'ultima_scompensazione': self.ultima_scompensazione,\n",
    "            'scompensazione_attuale': self.scompensazione_attuale,\n",
    "            'spia_num': self.spia_num,\n",
    "            'spia_rip': self.spia_rip,\n",
    "            'spia_estr': self.n_estr\n",
    "        }\n",
    "        \n",
    "    def stampa_statistihe(self):\n",
    "        \n",
    "        for k, v in self.statistiche.items():\n",
    "            print(f'{k}: {v}')\n",
    "\n",
    "    def spia(self):\n",
    "        t = np.array([])\n",
    "        for i in self.elenco_uscite:\n",
    "            i = int(i) - 2\n",
    "            t = np.append(t, self.df.iloc[i-self.n_estr:i, 2:].values)\n",
    "        pf = pd.DataFrame(columns=['n_spia', 'rip'])\n",
    "        pf['n_spia'], pf['rip'] = np.unique(t.flatten(), return_counts=True)\n",
    "        pf.sort_values(by=['rip'], inplace=True)\n",
    "        u, c = pf.iloc[-1]\n",
    "        return u, c\n",
    "\n",
    "    def calcolo_trend(self):\n",
    "\n",
    "        l10 = 10\n",
    "        l30 = 30 \n",
    "\n",
    "        try:\n",
    "            # utilizzo le funzioni di pandas_ta per calcolare il trend della scompensazione\n",
    "            df = pd.DataFrame()\n",
    "            df['scompensi'] = self.scompensazioni\n",
    "            # aggiungo la colonna close perche' la funzione ta.sma la richiede\n",
    "            df['close'] = df['scompensi'].cumsum()\n",
    "            sma10 = df.ta.sma(length=l10)\n",
    "            sma30 = df.ta.sma(length=l30)\n",
    "            df = pd.concat([df, sma10, sma30], axis=1)\n",
    "            df['scomp_sigLine'] = np.where(df['SMA_10'] > df['SMA_30'], 1, 0 )\n",
    "            df['scomp_position'] = df['scomp_sigLine'].diff()\n",
    "            df[\"Status\"] = np.where(df['scomp_sigLine'] == 0, 'F', 'R')\n",
    "            self.trend = df['Status'].iloc[-1]\n",
    "            self.statistiche['trend'] = self.trend\n",
    "        except:\n",
    "            print('Impossibile calcolare il trend')\n",
    "            self.statistiche['trend'] = np.NaN\n",
    "    \n",
    "    def previsioni(self, ruota):\n",
    "\n",
    "        temp = self.carica_estrazioni(ruota)\n",
    "        df = pd.DataFrame()\n",
    "\n",
    "        # calcoliamo le previsioni\n",
    "        for i in range(1, 91):\n",
    "\n",
    "            self.carica_numero(i, temp)\n",
    "            self.calcolo_trend()\n",
    "            df = df.append(self.statistiche, ignore_index=True)\n",
    "        \n",
    "        df = df[(df['ritardo_attuale'] < 15) & (df['scompensazione_attuale'] < 0) & (df['trend'] == 'R')].sort_values(by='ultima_frequenza', ascending=False)\n",
    "        self.previsione = df['numero'].values\n",
    "        \n",
    "        return f\"i numeri da giocare su {ruota} sono: {self.previsione}\"\n",
    "        \n",
    "            \n"
   ]
  },
  {
   "cell_type": "code",
   "execution_count": 10,
   "metadata": {},
   "outputs": [
    {
     "name": "stdout",
     "output_type": "stream",
     "text": [
      "Impossibile calcolare il trend\n",
      "ruota: BA\n",
      "numero: [22, 11]\n",
      "n_uscite: 19\n",
      "totale_estrazioni: 6734\n",
      "ultima_frequenza: 354.42\n",
      "ritardo_attuale: 780.0\n",
      "ritardo_massimo: 883.0\n",
      "ultimo_ritardo: 358.0\n",
      "ultima_scompensazione: -248.60772619193665\n",
      "scompensazione_attuale: 176.97227380806333\n",
      "spia_num: 82\n",
      "spia_rip: 34\n",
      "spia_estr: 20\n",
      "trend: nan\n"
     ]
    }
   ],
   "source": [
    "ambo = Lotto()\n",
    "df = ambo.carica_estrazioni('BA')\n",
    "ambo.carica_numero([22, 11], df, 20)\n",
    "ambo.calcolo_trend()\n",
    "ambo.stampa_statistihe()\n"
   ]
  },
  {
   "cell_type": "code",
   "execution_count": null,
   "metadata": {},
   "outputs": [],
   "source": [
    "n = Lotto()\n",
    "df = n.carica_estrazioni('BA')\n",
    "numeri = pd.DataFrame(columns=['numero', 'spia', 'rip', 'uscite'])\n",
    "num = np.array([])\n",
    "sp = np.array([])\n",
    "rip = np.array([])\n",
    "u = np.array([])\n",
    "for i in range(1, 91):\n",
    "    n.carica_numero([i], df)\n",
    "    num = np.append(num, int(i))\n",
    "    sp = np.append(sp, n.spia_num)\n",
    "    rip = np.append(rip, n.spia_rip)\n",
    "    u = np.append(u, n.n_uscite)\n",
    "numeri['numero'] = num\n",
    "numeri['spia'] = sp\n",
    "numeri['rip'] = rip\n",
    "numeri['uscite'] = u\n",
    "\n"
   ]
  },
  {
   "cell_type": "code",
   "execution_count": 206,
   "metadata": {},
   "outputs": [
    {
     "name": "stdout",
     "output_type": "stream",
     "text": [
      "[                              ]  1%"
     ]
    },
    {
     "ename": "KeyboardInterrupt",
     "evalue": "",
     "output_type": "error",
     "traceback": [
      "\u001b[0;31m---------------------------------------------------------------------------\u001b[0m",
      "\u001b[0;31mKeyboardInterrupt\u001b[0m                         Traceback (most recent call last)",
      "\u001b[1;32m/home/onizuka-host/Zoho WorkDrive (Catalano Consulenze Tecniche)/My Folders/Documenti personali_/Partita IVA/Programming/Lotto/EstrazioniLotto/Lotto2.ipynb Cell 8\u001b[0m in \u001b[0;36m1\n\u001b[1;32m     <a href='vscode-notebook-cell:/home/onizuka-host/Zoho%20WorkDrive%20%28Catalano%20Consulenze%20Tecniche%29/My%20Folders/Documenti%20personali_/Partita%20IVA/Programming/Lotto/EstrazioniLotto/Lotto2.ipynb#X22sZmlsZQ%3D%3D?line=10'>11</a>\u001b[0m \u001b[39mfor\u001b[39;00m i \u001b[39min\u001b[39;00m a:\n\u001b[1;32m     <a href='vscode-notebook-cell:/home/onizuka-host/Zoho%20WorkDrive%20%28Catalano%20Consulenze%20Tecniche%29/My%20Folders/Documenti%20personali_/Partita%20IVA/Programming/Lotto/EstrazioniLotto/Lotto2.ipynb#X22sZmlsZQ%3D%3D?line=11'>12</a>\u001b[0m     i \u001b[39m=\u001b[39m \u001b[39mlist\u001b[39m(\u001b[39mmap\u001b[39m(\u001b[39mint\u001b[39m, i))\n\u001b[0;32m---> <a href='vscode-notebook-cell:/home/onizuka-host/Zoho%20WorkDrive%20%28Catalano%20Consulenze%20Tecniche%29/My%20Folders/Documenti%20personali_/Partita%20IVA/Programming/Lotto/EstrazioniLotto/Lotto2.ipynb#X22sZmlsZQ%3D%3D?line=12'>13</a>\u001b[0m     n\u001b[39m.\u001b[39;49mcarica_numero(i, df)\n\u001b[1;32m     <a href='vscode-notebook-cell:/home/onizuka-host/Zoho%20WorkDrive%20%28Catalano%20Consulenze%20Tecniche%29/My%20Folders/Documenti%20personali_/Partita%20IVA/Programming/Lotto/EstrazioniLotto/Lotto2.ipynb#X22sZmlsZQ%3D%3D?line=13'>14</a>\u001b[0m     sp \u001b[39m=\u001b[39m np\u001b[39m.\u001b[39mappend(sp, n\u001b[39m.\u001b[39mspia_num)\n\u001b[1;32m     <a href='vscode-notebook-cell:/home/onizuka-host/Zoho%20WorkDrive%20%28Catalano%20Consulenze%20Tecniche%29/My%20Folders/Documenti%20personali_/Partita%20IVA/Programming/Lotto/EstrazioniLotto/Lotto2.ipynb#X22sZmlsZQ%3D%3D?line=14'>15</a>\u001b[0m     rip \u001b[39m=\u001b[39m np\u001b[39m.\u001b[39mappend(rip, n\u001b[39m.\u001b[39mspia_rip)\n",
      "\u001b[1;32m/home/onizuka-host/Zoho WorkDrive (Catalano Consulenze Tecniche)/My Folders/Documenti personali_/Partita IVA/Programming/Lotto/EstrazioniLotto/Lotto2.ipynb Cell 8\u001b[0m in \u001b[0;36m3\n\u001b[1;32m     <a href='vscode-notebook-cell:/home/onizuka-host/Zoho%20WorkDrive%20%28Catalano%20Consulenze%20Tecniche%29/My%20Folders/Documenti%20personali_/Partita%20IVA/Programming/Lotto/EstrazioniLotto/Lotto2.ipynb#X22sZmlsZQ%3D%3D?line=30'>31</a>\u001b[0m \u001b[39mself\u001b[39m\u001b[39m.\u001b[39multima_frequenza \u001b[39m=\u001b[39m \u001b[39mround\u001b[39m(\u001b[39mfloat\u001b[39m(\u001b[39mself\u001b[39m\u001b[39m.\u001b[39mtotale_estrazioni\u001b[39m/\u001b[39m\u001b[39mself\u001b[39m\u001b[39m.\u001b[39mn_uscite), \u001b[39m2\u001b[39m)\n\u001b[1;32m     <a href='vscode-notebook-cell:/home/onizuka-host/Zoho%20WorkDrive%20%28Catalano%20Consulenze%20Tecniche%29/My%20Folders/Documenti%20personali_/Partita%20IVA/Programming/Lotto/EstrazioniLotto/Lotto2.ipynb#X22sZmlsZQ%3D%3D?line=31'>32</a>\u001b[0m \u001b[39m# l'elenco dei ritardi e' dato dal vettore dei ritardi\u001b[39;00m\n\u001b[0;32m---> <a href='vscode-notebook-cell:/home/onizuka-host/Zoho%20WorkDrive%20%28Catalano%20Consulenze%20Tecniche%29/My%20Folders/Documenti%20personali_/Partita%20IVA/Programming/Lotto/EstrazioniLotto/Lotto2.ipynb#X22sZmlsZQ%3D%3D?line=32'>33</a>\u001b[0m \u001b[39mself\u001b[39m\u001b[39m.\u001b[39mritardi \u001b[39m=\u001b[39m ritardi(\u001b[39mself\u001b[39;49m\u001b[39m.\u001b[39;49mdf, \u001b[39mself\u001b[39;49m\u001b[39m.\u001b[39;49mnumero)\n\u001b[1;32m     <a href='vscode-notebook-cell:/home/onizuka-host/Zoho%20WorkDrive%20%28Catalano%20Consulenze%20Tecniche%29/My%20Folders/Documenti%20personali_/Partita%20IVA/Programming/Lotto/EstrazioniLotto/Lotto2.ipynb#X22sZmlsZQ%3D%3D?line=33'>34</a>\u001b[0m \u001b[39m# il ritardo attuale e' dato dalla differenza tra il totale delle estrazioni e l'indice l'ultima uscita\u001b[39;00m\n\u001b[1;32m     <a href='vscode-notebook-cell:/home/onizuka-host/Zoho%20WorkDrive%20%28Catalano%20Consulenze%20Tecniche%29/My%20Folders/Documenti%20personali_/Partita%20IVA/Programming/Lotto/EstrazioniLotto/Lotto2.ipynb#X22sZmlsZQ%3D%3D?line=34'>35</a>\u001b[0m \u001b[39mself\u001b[39m\u001b[39m.\u001b[39mritardo_attuale \u001b[39m=\u001b[39m \u001b[39mself\u001b[39m\u001b[39m.\u001b[39mtotale_estrazioni \u001b[39m-\u001b[39m \u001b[39mself\u001b[39m\u001b[39m.\u001b[39melenco_uscite[\u001b[39m-\u001b[39m\u001b[39m1\u001b[39m]\n",
      "\u001b[1;32m/home/onizuka-host/Zoho WorkDrive (Catalano Consulenze Tecniche)/My Folders/Documenti personali_/Partita IVA/Programming/Lotto/EstrazioniLotto/Lotto2.ipynb Cell 8\u001b[0m in \u001b[0;36m3\n\u001b[1;32m      <a href='vscode-notebook-cell:/home/onizuka-host/Zoho%20WorkDrive%20%28Catalano%20Consulenze%20Tecniche%29/My%20Folders/Documenti%20personali_/Partita%20IVA/Programming/Lotto/EstrazioniLotto/Lotto2.ipynb#X22sZmlsZQ%3D%3D?line=0'>1</a>\u001b[0m \u001b[39mdef\u001b[39;00m \u001b[39mritardi\u001b[39m(df, numero):\n\u001b[0;32m----> <a href='vscode-notebook-cell:/home/onizuka-host/Zoho%20WorkDrive%20%28Catalano%20Consulenze%20Tecniche%29/My%20Folders/Documenti%20personali_/Partita%20IVA/Programming/Lotto/EstrazioniLotto/Lotto2.ipynb#X22sZmlsZQ%3D%3D?line=2'>3</a>\u001b[0m     u \u001b[39m=\u001b[39m uscite(df, numero)\n\u001b[1;32m      <a href='vscode-notebook-cell:/home/onizuka-host/Zoho%20WorkDrive%20%28Catalano%20Consulenze%20Tecniche%29/My%20Folders/Documenti%20personali_/Partita%20IVA/Programming/Lotto/EstrazioniLotto/Lotto2.ipynb#X22sZmlsZQ%3D%3D?line=3'>4</a>\u001b[0m     \u001b[39m# calcuiamo la differenza tra ogni valore della lista e il successivo\u001b[39;00m\n\u001b[1;32m      <a href='vscode-notebook-cell:/home/onizuka-host/Zoho%20WorkDrive%20%28Catalano%20Consulenze%20Tecniche%29/My%20Folders/Documenti%20personali_/Partita%20IVA/Programming/Lotto/EstrazioniLotto/Lotto2.ipynb#X22sZmlsZQ%3D%3D?line=4'>5</a>\u001b[0m     ritardi \u001b[39m=\u001b[39m np\u001b[39m.\u001b[39mdiff(u)\n",
      "\u001b[1;32m/home/onizuka-host/Zoho WorkDrive (Catalano Consulenze Tecniche)/My Folders/Documenti personali_/Partita IVA/Programming/Lotto/EstrazioniLotto/Lotto2.ipynb Cell 8\u001b[0m in \u001b[0;36m1\n\u001b[1;32m     <a href='vscode-notebook-cell:/home/onizuka-host/Zoho%20WorkDrive%20%28Catalano%20Consulenze%20Tecniche%29/My%20Folders/Documenti%20personali_/Partita%20IVA/Programming/Lotto/EstrazioniLotto/Lotto2.ipynb#X22sZmlsZQ%3D%3D?line=10'>11</a>\u001b[0m \u001b[39melif\u001b[39;00m \u001b[39mlen\u001b[39m(numeri) \u001b[39m>\u001b[39m \u001b[39m1\u001b[39m:\n\u001b[1;32m     <a href='vscode-notebook-cell:/home/onizuka-host/Zoho%20WorkDrive%20%28Catalano%20Consulenze%20Tecniche%29/My%20Folders/Documenti%20personali_/Partita%20IVA/Programming/Lotto/EstrazioniLotto/Lotto2.ipynb#X22sZmlsZQ%3D%3D?line=12'>13</a>\u001b[0m     \u001b[39mfor\u001b[39;00m i \u001b[39min\u001b[39;00m \u001b[39mrange\u001b[39m(\u001b[39mlen\u001b[39m(df)):\n\u001b[1;32m     <a href='vscode-notebook-cell:/home/onizuka-host/Zoho%20WorkDrive%20%28Catalano%20Consulenze%20Tecniche%29/My%20Folders/Documenti%20personali_/Partita%20IVA/Programming/Lotto/EstrazioniLotto/Lotto2.ipynb#X22sZmlsZQ%3D%3D?line=13'>14</a>\u001b[0m         \u001b[39m# prendiamo la riga i-esima con le colonne dalla 2 alla 8\u001b[39;00m\n\u001b[0;32m---> <a href='vscode-notebook-cell:/home/onizuka-host/Zoho%20WorkDrive%20%28Catalano%20Consulenze%20Tecniche%29/My%20Folders/Documenti%20personali_/Partita%20IVA/Programming/Lotto/EstrazioniLotto/Lotto2.ipynb#X22sZmlsZQ%3D%3D?line=14'>15</a>\u001b[0m         riga \u001b[39m=\u001b[39m df\u001b[39m.\u001b[39;49miloc[i, \u001b[39m2\u001b[39;49m:]\n\u001b[1;32m     <a href='vscode-notebook-cell:/home/onizuka-host/Zoho%20WorkDrive%20%28Catalano%20Consulenze%20Tecniche%29/My%20Folders/Documenti%20personali_/Partita%20IVA/Programming/Lotto/EstrazioniLotto/Lotto2.ipynb#X22sZmlsZQ%3D%3D?line=16'>17</a>\u001b[0m         \u001b[39m# preniamo tutte le possibili combianzioni di numeri e le mettiamo in una lista\u001b[39;00m\n\u001b[1;32m     <a href='vscode-notebook-cell:/home/onizuka-host/Zoho%20WorkDrive%20%28Catalano%20Consulenze%20Tecniche%29/My%20Folders/Documenti%20personali_/Partita%20IVA/Programming/Lotto/EstrazioniLotto/Lotto2.ipynb#X22sZmlsZQ%3D%3D?line=17'>18</a>\u001b[0m         \u001b[39m# e poi verifichiamo se sono uscite\u001b[39;00m\n\u001b[1;32m     <a href='vscode-notebook-cell:/home/onizuka-host/Zoho%20WorkDrive%20%28Catalano%20Consulenze%20Tecniche%29/My%20Folders/Documenti%20personali_/Partita%20IVA/Programming/Lotto/EstrazioniLotto/Lotto2.ipynb#X22sZmlsZQ%3D%3D?line=18'>19</a>\u001b[0m         \u001b[39mfor\u001b[39;00m j \u001b[39min\u001b[39;00m permutations(riga, \u001b[39mlen\u001b[39m(numeri)):\n\u001b[1;32m     <a href='vscode-notebook-cell:/home/onizuka-host/Zoho%20WorkDrive%20%28Catalano%20Consulenze%20Tecniche%29/My%20Folders/Documenti%20personali_/Partita%20IVA/Programming/Lotto/EstrazioniLotto/Lotto2.ipynb#X22sZmlsZQ%3D%3D?line=19'>20</a>\u001b[0m             \n\u001b[1;32m     <a href='vscode-notebook-cell:/home/onizuka-host/Zoho%20WorkDrive%20%28Catalano%20Consulenze%20Tecniche%29/My%20Folders/Documenti%20personali_/Partita%20IVA/Programming/Lotto/EstrazioniLotto/Lotto2.ipynb#X22sZmlsZQ%3D%3D?line=20'>21</a>\u001b[0m             \u001b[39m# convertiamo larray numeri in una turpla di stringhe\u001b[39;00m\n",
      "File \u001b[0;32m~/.local/lib/python3.10/site-packages/pandas/core/indexing.py:925\u001b[0m, in \u001b[0;36m_LocationIndexer.__getitem__\u001b[0;34m(self, key)\u001b[0m\n\u001b[1;32m    923\u001b[0m         \u001b[39mwith\u001b[39;00m suppress(\u001b[39mKeyError\u001b[39;00m, \u001b[39mIndexError\u001b[39;00m):\n\u001b[1;32m    924\u001b[0m             \u001b[39mreturn\u001b[39;00m \u001b[39mself\u001b[39m\u001b[39m.\u001b[39mobj\u001b[39m.\u001b[39m_get_value(\u001b[39m*\u001b[39mkey, takeable\u001b[39m=\u001b[39m\u001b[39mself\u001b[39m\u001b[39m.\u001b[39m_takeable)\n\u001b[0;32m--> 925\u001b[0m     \u001b[39mreturn\u001b[39;00m \u001b[39mself\u001b[39;49m\u001b[39m.\u001b[39;49m_getitem_tuple(key)\n\u001b[1;32m    926\u001b[0m \u001b[39melse\u001b[39;00m:\n\u001b[1;32m    927\u001b[0m     \u001b[39m# we by definition only have the 0th axis\u001b[39;00m\n\u001b[1;32m    928\u001b[0m     axis \u001b[39m=\u001b[39m \u001b[39mself\u001b[39m\u001b[39m.\u001b[39maxis \u001b[39mor\u001b[39;00m \u001b[39m0\u001b[39m\n",
      "File \u001b[0;32m~/.local/lib/python3.10/site-packages/pandas/core/indexing.py:1508\u001b[0m, in \u001b[0;36m_iLocIndexer._getitem_tuple\u001b[0;34m(self, tup)\u001b[0m\n\u001b[1;32m   1506\u001b[0m \u001b[39mself\u001b[39m\u001b[39m.\u001b[39m_has_valid_tuple(tup)\n\u001b[1;32m   1507\u001b[0m \u001b[39mwith\u001b[39;00m suppress(IndexingError):\n\u001b[0;32m-> 1508\u001b[0m     \u001b[39mreturn\u001b[39;00m \u001b[39mself\u001b[39;49m\u001b[39m.\u001b[39;49m_getitem_lowerdim(tup)\n\u001b[1;32m   1510\u001b[0m \u001b[39mreturn\u001b[39;00m \u001b[39mself\u001b[39m\u001b[39m.\u001b[39m_getitem_tuple_same_dim(tup)\n",
      "File \u001b[0;32m~/.local/lib/python3.10/site-packages/pandas/core/indexing.py:862\u001b[0m, in \u001b[0;36m_LocationIndexer._getitem_lowerdim\u001b[0;34m(self, tup)\u001b[0m\n\u001b[1;32m    860\u001b[0m             \u001b[39mreturn\u001b[39;00m section\n\u001b[1;32m    861\u001b[0m         \u001b[39m# This is an elided recursive call to iloc/loc\u001b[39;00m\n\u001b[0;32m--> 862\u001b[0m         \u001b[39mreturn\u001b[39;00m \u001b[39mgetattr\u001b[39;49m(section, \u001b[39mself\u001b[39;49m\u001b[39m.\u001b[39;49mname)[new_key]\n\u001b[1;32m    864\u001b[0m \u001b[39mraise\u001b[39;00m IndexingError(\u001b[39m\"\u001b[39m\u001b[39mnot applicable\u001b[39m\u001b[39m\"\u001b[39m)\n",
      "File \u001b[0;32m~/.local/lib/python3.10/site-packages/pandas/core/indexing.py:931\u001b[0m, in \u001b[0;36m_LocationIndexer.__getitem__\u001b[0;34m(self, key)\u001b[0m\n\u001b[1;32m    928\u001b[0m axis \u001b[39m=\u001b[39m \u001b[39mself\u001b[39m\u001b[39m.\u001b[39maxis \u001b[39mor\u001b[39;00m \u001b[39m0\u001b[39m\n\u001b[1;32m    930\u001b[0m maybe_callable \u001b[39m=\u001b[39m com\u001b[39m.\u001b[39mapply_if_callable(key, \u001b[39mself\u001b[39m\u001b[39m.\u001b[39mobj)\n\u001b[0;32m--> 931\u001b[0m \u001b[39mreturn\u001b[39;00m \u001b[39mself\u001b[39;49m\u001b[39m.\u001b[39;49m_getitem_axis(maybe_callable, axis\u001b[39m=\u001b[39;49maxis)\n",
      "File \u001b[0;32m~/.local/lib/python3.10/site-packages/pandas/core/indexing.py:1543\u001b[0m, in \u001b[0;36m_iLocIndexer._getitem_axis\u001b[0;34m(self, key, axis)\u001b[0m\n\u001b[1;32m   1537\u001b[0m     \u001b[39mraise\u001b[39;00m \u001b[39mIndexError\u001b[39;00m(\n\u001b[1;32m   1538\u001b[0m         \u001b[39m\"\u001b[39m\u001b[39mDataFrame indexer is not allowed for .iloc\u001b[39m\u001b[39m\\n\u001b[39;00m\u001b[39m\"\u001b[39m\n\u001b[1;32m   1539\u001b[0m         \u001b[39m\"\u001b[39m\u001b[39mConsider using .loc for automatic alignment.\u001b[39m\u001b[39m\"\u001b[39m\n\u001b[1;32m   1540\u001b[0m     )\n\u001b[1;32m   1542\u001b[0m \u001b[39mif\u001b[39;00m \u001b[39misinstance\u001b[39m(key, \u001b[39mslice\u001b[39m):\n\u001b[0;32m-> 1543\u001b[0m     \u001b[39mreturn\u001b[39;00m \u001b[39mself\u001b[39;49m\u001b[39m.\u001b[39;49m_get_slice_axis(key, axis\u001b[39m=\u001b[39;49maxis)\n\u001b[1;32m   1545\u001b[0m \u001b[39mif\u001b[39;00m is_iterator(key):\n\u001b[1;32m   1546\u001b[0m     key \u001b[39m=\u001b[39m \u001b[39mlist\u001b[39m(key)\n",
      "File \u001b[0;32m~/.local/lib/python3.10/site-packages/pandas/core/indexing.py:1579\u001b[0m, in \u001b[0;36m_iLocIndexer._get_slice_axis\u001b[0;34m(self, slice_obj, axis)\u001b[0m\n\u001b[1;32m   1577\u001b[0m labels \u001b[39m=\u001b[39m obj\u001b[39m.\u001b[39m_get_axis(axis)\n\u001b[1;32m   1578\u001b[0m labels\u001b[39m.\u001b[39m_validate_positional_slice(slice_obj)\n\u001b[0;32m-> 1579\u001b[0m \u001b[39mreturn\u001b[39;00m \u001b[39mself\u001b[39;49m\u001b[39m.\u001b[39;49mobj\u001b[39m.\u001b[39;49m_slice(slice_obj, axis\u001b[39m=\u001b[39;49maxis)\n",
      "File \u001b[0;32m~/.local/lib/python3.10/site-packages/pandas/core/series.py:926\u001b[0m, in \u001b[0;36mSeries._slice\u001b[0;34m(self, slobj, axis)\u001b[0m\n\u001b[1;32m    923\u001b[0m \u001b[39mdef\u001b[39;00m \u001b[39m_slice\u001b[39m(\u001b[39mself\u001b[39m, slobj: \u001b[39mslice\u001b[39m, axis: \u001b[39mint\u001b[39m \u001b[39m=\u001b[39m \u001b[39m0\u001b[39m) \u001b[39m-\u001b[39m\u001b[39m>\u001b[39m Series:\n\u001b[1;32m    924\u001b[0m     \u001b[39m# axis kwarg is retained for compat with NDFrame method\u001b[39;00m\n\u001b[1;32m    925\u001b[0m     \u001b[39m#  _slice is *always* positional\u001b[39;00m\n\u001b[0;32m--> 926\u001b[0m     \u001b[39mreturn\u001b[39;00m \u001b[39mself\u001b[39;49m\u001b[39m.\u001b[39;49m_get_values(slobj)\n",
      "File \u001b[0;32m~/.local/lib/python3.10/site-packages/pandas/core/series.py:1027\u001b[0m, in \u001b[0;36mSeries._get_values\u001b[0;34m(self, indexer)\u001b[0m\n\u001b[1;32m   1025\u001b[0m \u001b[39mtry\u001b[39;00m:\n\u001b[1;32m   1026\u001b[0m     new_mgr \u001b[39m=\u001b[39m \u001b[39mself\u001b[39m\u001b[39m.\u001b[39m_mgr\u001b[39m.\u001b[39mgetitem_mgr(indexer)\n\u001b[0;32m-> 1027\u001b[0m     \u001b[39mreturn\u001b[39;00m \u001b[39mself\u001b[39;49m\u001b[39m.\u001b[39;49m_constructor(new_mgr)\u001b[39m.\u001b[39m__finalize__(\u001b[39mself\u001b[39m)\n\u001b[1;32m   1028\u001b[0m \u001b[39mexcept\u001b[39;00m \u001b[39mValueError\u001b[39;00m:\n\u001b[1;32m   1029\u001b[0m     \u001b[39m# mpl compat if we look up e.g. ser[:, np.newaxis];\u001b[39;00m\n\u001b[1;32m   1030\u001b[0m     \u001b[39m#  see tests.series.timeseries.test_mpl_compat_hack\u001b[39;00m\n\u001b[1;32m   1031\u001b[0m     \u001b[39m# the asarray is needed to avoid returning a 2D DatetimeArray\u001b[39;00m\n\u001b[1;32m   1032\u001b[0m     \u001b[39mreturn\u001b[39;00m np\u001b[39m.\u001b[39masarray(\u001b[39mself\u001b[39m\u001b[39m.\u001b[39m_values[indexer])\n",
      "File \u001b[0;32m~/.local/lib/python3.10/site-packages/pandas/core/series.py:507\u001b[0m, in \u001b[0;36mSeries._constructor\u001b[0;34m(self)\u001b[0m\n\u001b[1;32m    503\u001b[0m     \u001b[39mreturn\u001b[39;00m s\u001b[39m.\u001b[39m_mgr, s\u001b[39m.\u001b[39mindex\n\u001b[1;32m    505\u001b[0m \u001b[39m# ----------------------------------------------------------------------\u001b[39;00m\n\u001b[0;32m--> 507\u001b[0m \u001b[39m@property\u001b[39m\n\u001b[1;32m    508\u001b[0m \u001b[39mdef\u001b[39;00m \u001b[39m_constructor\u001b[39m(\u001b[39mself\u001b[39m) \u001b[39m-\u001b[39m\u001b[39m>\u001b[39m \u001b[39mtype\u001b[39m[Series]:\n\u001b[1;32m    509\u001b[0m     \u001b[39mreturn\u001b[39;00m Series\n\u001b[1;32m    511\u001b[0m \u001b[39m@property\u001b[39m\n\u001b[1;32m    512\u001b[0m \u001b[39mdef\u001b[39;00m \u001b[39m_constructor_expanddim\u001b[39m(\u001b[39mself\u001b[39m) \u001b[39m-\u001b[39m\u001b[39m>\u001b[39m \u001b[39mtype\u001b[39m[DataFrame]:\n",
      "\u001b[0;31mKeyboardInterrupt\u001b[0m: "
     ]
    }
   ],
   "source": [
    "n = Lotto()\n",
    "df = n.carica_estrazioni('BA')\n",
    "numeri = pd.DataFrame(columns=['numero', 'spia', 'rip', 'uscite'])\n",
    "\n",
    "sp = np.array([])\n",
    "rip = np.array([])\n",
    "u = np.array([])\n",
    "a = combinations(range(1, 91), 2)\n",
    "a = list(a)\n",
    "count= 1\n",
    "for i in a:\n",
    "    i = list(map(int, i))\n",
    "    n.carica_numero(i, df)\n",
    "    sp = np.append(sp, n.spia_num)\n",
    "    rip = np.append(rip, n.spia_rip)\n",
    "    u = np.append(u, n.n_uscite)\n",
    "    fn.progress(count, len(a))\n",
    "    count += 1\n",
    "    \n",
    "numeri['numero'] = a\n",
    "numeri['spia'] = sp\n",
    "numeri['rip'] = rip\n",
    "numeri['uscite'] = u"
   ]
  },
  {
   "cell_type": "code",
   "execution_count": 195,
   "metadata": {},
   "outputs": [
    {
     "name": "stdout",
     "output_type": "stream",
     "text": [
      "Empty DataFrame\n",
      "Columns: [numero, spia, rip, uscite, %]\n",
      "Index: []\n",
      "Empty DataFrame\n",
      "Columns: [numero, spia, rip, uscite, %]\n",
      "Index: []\n",
      "   numero spia   rip  uscite      %\n",
      "2  (1, 4)   40  22.0    19.0  116.0\n",
      "Empty DataFrame\n",
      "Columns: [numero, spia, rip, uscite, %]\n",
      "Index: []\n",
      "Empty DataFrame\n",
      "Columns: [numero, spia, rip, uscite, %]\n",
      "Index: []\n"
     ]
    }
   ],
   "source": [
    "numeri['%'] = round(numeri['rip'] / numeri['uscite'], 2) * 100\n",
    "lista_num = [59,14,40,79,7]\n",
    "for i in lista_num:\n",
    "    print(numeri[numeri['spia'] == str(i)])"
   ]
  },
  {
   "cell_type": "code",
   "execution_count": 203,
   "metadata": {},
   "outputs": [
    {
     "name": "stdout",
     "output_type": "stream",
     "text": [
      "Impossibile calcolare il trend\n",
      "ruota: BA\n",
      "numero: [1, 4]\n",
      "n_uscite: 19\n",
      "totale_estrazioni: 6727\n",
      "ultima_frequenza: 354.05\n",
      "ritardo_attuale: 536.0\n",
      "ritardo_massimo: 1031.0\n",
      "ultimo_ritardo: 315.0\n",
      "ultima_scompensazione: 1764.5061534226006\n",
      "scompensazione_attuale: 1946.4561534226007\n",
      "spia_num: 40\n",
      "spia_rip: 22\n",
      "trend: nan\n"
     ]
    }
   ],
   "source": [
    "b = Lotto()\n",
    "df = b.carica_estrazioni('BA')\n",
    "b.carica_numero([1, 4], df)\n",
    "b.calcolo_trend()\n",
    "b.stampa_statistihe()\n",
    "\n"
   ]
  },
  {
   "cell_type": "code",
   "execution_count": null,
   "metadata": {},
   "outputs": [],
   "source": [
    "# leggiamo il file csv delle estrazioni di Bari\n",
    "a = Lotto()\n",
    "\n",
    "ruote = ['BA', 'CA', 'FI', 'GE', 'MI', 'NA', 'PA', 'RM', 'TO', 'VE', 'RN']\n",
    "\n",
    "for i in ruote:\n",
    "    #df = a.carica_estrazioni(i)\n",
    "    print(a.previsioni(i))"
   ]
  },
  {
   "cell_type": "code",
   "execution_count": null,
   "metadata": {},
   "outputs": [],
   "source": [
    "import pandas as pd\n",
    "dati = [[1, 2, 3], [4, 5, 6], [7, 8, 9]]\n",
    "df = pd.DataFrame(dati, columns=['a', 'b', 'c'])\n"
   ]
  },
  {
   "cell_type": "code",
   "execution_count": null,
   "metadata": {},
   "outputs": [],
   "source": [
    "df.head()"
   ]
  },
  {
   "cell_type": "code",
   "execution_count": null,
   "metadata": {},
   "outputs": [],
   "source": [
    "df2 = df.shift(-1)"
   ]
  },
  {
   "cell_type": "code",
   "execution_count": null,
   "metadata": {},
   "outputs": [],
   "source": [
    "df2"
   ]
  }
 ],
 "metadata": {
  "kernelspec": {
   "display_name": "Python 3",
   "language": "python",
   "name": "python3"
  },
  "language_info": {
   "codemirror_mode": {
    "name": "ipython",
    "version": 3
   },
   "file_extension": ".py",
   "mimetype": "text/x-python",
   "name": "python",
   "nbconvert_exporter": "python",
   "pygments_lexer": "ipython3",
   "version": "3.10.12"
  },
  "orig_nbformat": 4
 },
 "nbformat": 4,
 "nbformat_minor": 2
}
