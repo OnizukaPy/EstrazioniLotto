{
 "cells": [
  {
   "cell_type": "code",
   "execution_count": 2,
   "metadata": {},
   "outputs": [],
   "source": [
    "# importazione delle librerie\n",
    "import pandas as pd\n",
    "import pandas_ta as ta\n",
    "import numpy as np\n",
    "import matplotlib.pyplot as plt\n",
    "from scipy.signal import argrelextrema\n",
    "from itertools import combinations, permutations\n",
    "\n",
    "import Lib.Funtions as fn\n",
    "import Lottomatica.Funtions as Lfn\n",
    "import Models.Lottomatica as Lottomatica\n",
    "from Lib.Path import PATH_ESTR\n",
    "\n",
    "# importiamo il path"
   ]
  },
  {
   "cell_type": "code",
   "execution_count": 19,
   "metadata": {},
   "outputs": [],
   "source": [
    "# upload arhivio\n",
    "fn.update_archivio()"
   ]
  },
  {
   "cell_type": "markdown",
   "metadata": {},
   "source": [
    "CREIAMO LA NOSTRA CLASSE PER IL GIOCO DEL LOTTO"
   ]
  },
  {
   "cell_type": "code",
   "execution_count": 3,
   "metadata": {},
   "outputs": [
    {
     "name": "stdout",
     "output_type": "stream",
     "text": [
      "4005\n"
     ]
    }
   ],
   "source": [
    "# creiamo una lista in numpy con tutti gli ambi in 90 numeri\n",
    "numeri = np.arange(1,91)\n",
    "ambi = np.array(list(combinations(numeri,2)))\n",
    "print(len(ambi))"
   ]
  },
  {
   "cell_type": "code",
   "execution_count": 4,
   "metadata": {},
   "outputs": [
    {
     "ename": "KeyboardInterrupt",
     "evalue": "",
     "output_type": "error",
     "traceback": [
      "\u001b[0;31m---------------------------------------------------------------------------\u001b[0m",
      "\u001b[0;31mKeyboardInterrupt\u001b[0m                         Traceback (most recent call last)",
      "Cell \u001b[0;32mIn[4], line 10\u001b[0m\n\u001b[1;32m      8\u001b[0m i \u001b[38;5;241m=\u001b[39m \u001b[38;5;28mlist\u001b[39m(\u001b[38;5;28mmap\u001b[39m(\u001b[38;5;28mint\u001b[39m, i))\n\u001b[1;32m      9\u001b[0m \u001b[38;5;66;03m#print(f\"Coppia di numeri: {i}\")\u001b[39;00m\n\u001b[0;32m---> 10\u001b[0m \u001b[43mn\u001b[49m\u001b[38;5;241;43m.\u001b[39;49m\u001b[43mcarica_numero\u001b[49m\u001b[43m(\u001b[49m\u001b[43mi\u001b[49m\u001b[43m,\u001b[49m\u001b[43m \u001b[49m\u001b[43mestrazioni\u001b[49m\u001b[43m,\u001b[49m\u001b[43m \u001b[49m\u001b[38;5;241;43m10\u001b[39;49m\u001b[43m)\u001b[49m\n\u001b[1;32m     11\u001b[0m n_uscite \u001b[38;5;241m=\u001b[39m n\u001b[38;5;241m.\u001b[39mn_uscite\n\u001b[1;32m     12\u001b[0m spia10 \u001b[38;5;241m=\u001b[39m n\u001b[38;5;241m.\u001b[39mspia_num\n",
      "File \u001b[0;32m~/Zoho WorkDrive (Catalano Consulenze Tecniche)/My Folders/Documenti personali_/Partita IVA/Programming/Lotto/EstrazioniLotto/Models/Lottomatica.py:59\u001b[0m, in \u001b[0;36mLotto.carica_numero\u001b[0;34m(self, numero, df, n_estr)\u001b[0m\n\u001b[1;32m     57\u001b[0m \u001b[38;5;28mself\u001b[39m\u001b[38;5;241m.\u001b[39mtotale_estrazioni \u001b[38;5;241m=\u001b[39m \u001b[38;5;28mlen\u001b[39m(\u001b[38;5;28mself\u001b[39m\u001b[38;5;241m.\u001b[39mdf)\n\u001b[1;32m     58\u001b[0m \u001b[38;5;66;03m# calcoliamo le posizioni di indice delle uscite del numero\u001b[39;00m\n\u001b[0;32m---> 59\u001b[0m \u001b[38;5;28mself\u001b[39m\u001b[38;5;241m.\u001b[39melenco_uscite \u001b[38;5;241m=\u001b[39m \u001b[43mLfn\u001b[49m\u001b[38;5;241;43m.\u001b[39;49m\u001b[43mcalculate_optputs_from_df\u001b[49m\u001b[43m(\u001b[49m\u001b[38;5;28;43mself\u001b[39;49m\u001b[38;5;241;43m.\u001b[39;49m\u001b[43mdf\u001b[49m\u001b[43m,\u001b[49m\u001b[43m \u001b[49m\u001b[38;5;28;43mself\u001b[39;49m\u001b[38;5;241;43m.\u001b[39;49m\u001b[43mnumero\u001b[49m\u001b[43m)\u001b[49m\n\u001b[1;32m     60\u001b[0m \u001b[38;5;66;03m# il numero totali delle volte che e' uscito e' dato dalla lunghezza della lista\u001b[39;00m\n\u001b[1;32m     61\u001b[0m \u001b[38;5;28mself\u001b[39m\u001b[38;5;241m.\u001b[39mn_uscite \u001b[38;5;241m=\u001b[39m \u001b[38;5;28mlen\u001b[39m(\u001b[38;5;28mself\u001b[39m\u001b[38;5;241m.\u001b[39melenco_uscite)\n",
      "File \u001b[0;32m~/Zoho WorkDrive (Catalano Consulenze Tecniche)/My Folders/Documenti personali_/Partita IVA/Programming/Lotto/EstrazioniLotto/Lottomatica/Funtions.py:23\u001b[0m, in \u001b[0;36mcalculate_optputs_from_df\u001b[0;34m(df, numero)\u001b[0m\n\u001b[1;32m     19\u001b[0m \u001b[38;5;28;01melif\u001b[39;00m \u001b[38;5;28mlen\u001b[39m(numbers) \u001b[38;5;241m>\u001b[39m \u001b[38;5;241m1\u001b[39m:\n\u001b[1;32m     21\u001b[0m     \u001b[38;5;28;01mfor\u001b[39;00m i \u001b[38;5;129;01min\u001b[39;00m \u001b[38;5;28mrange\u001b[39m(\u001b[38;5;28mlen\u001b[39m(df)):\n\u001b[1;32m     22\u001b[0m         \u001b[38;5;66;03m# prendiamo la riga i-esima con le colonne dalla 2 alla 8\u001b[39;00m\n\u001b[0;32m---> 23\u001b[0m         row \u001b[38;5;241m=\u001b[39m \u001b[43mdf\u001b[49m\u001b[38;5;241;43m.\u001b[39;49m\u001b[43miloc\u001b[49m\u001b[43m[\u001b[49m\u001b[43mi\u001b[49m\u001b[43m,\u001b[49m\u001b[43m \u001b[49m\u001b[38;5;241;43m2\u001b[39;49m\u001b[43m:\u001b[49m\u001b[43m]\u001b[49m\n\u001b[1;32m     25\u001b[0m         \u001b[38;5;66;03m# preniamo tutte le possibili combianzioni di numeri e le mettiamo in una lista\u001b[39;00m\n\u001b[1;32m     26\u001b[0m         \u001b[38;5;66;03m# e poi verifichiamo se sono uscite\u001b[39;00m\n\u001b[1;32m     27\u001b[0m         \u001b[38;5;28;01mfor\u001b[39;00m j \u001b[38;5;129;01min\u001b[39;00m permutations(row, \u001b[38;5;28mlen\u001b[39m(numbers)):\n\u001b[1;32m     28\u001b[0m             \n\u001b[1;32m     29\u001b[0m             \u001b[38;5;66;03m# convertiamo l´array numeri in una turpla di stringhe\u001b[39;00m\n",
      "File \u001b[0;32m~/Zoho WorkDrive (Catalano Consulenze Tecniche)/My Folders/Documenti personali_/Partita IVA/Programming/Lotto/EstrazioniLotto/.venv/lib/python3.9/site-packages/pandas/core/indexing.py:1184\u001b[0m, in \u001b[0;36m_LocationIndexer.__getitem__\u001b[0;34m(self, key)\u001b[0m\n\u001b[1;32m   1182\u001b[0m     \u001b[38;5;28;01mif\u001b[39;00m \u001b[38;5;28mself\u001b[39m\u001b[38;5;241m.\u001b[39m_is_scalar_access(key):\n\u001b[1;32m   1183\u001b[0m         \u001b[38;5;28;01mreturn\u001b[39;00m \u001b[38;5;28mself\u001b[39m\u001b[38;5;241m.\u001b[39mobj\u001b[38;5;241m.\u001b[39m_get_value(\u001b[38;5;241m*\u001b[39mkey, takeable\u001b[38;5;241m=\u001b[39m\u001b[38;5;28mself\u001b[39m\u001b[38;5;241m.\u001b[39m_takeable)\n\u001b[0;32m-> 1184\u001b[0m     \u001b[38;5;28;01mreturn\u001b[39;00m \u001b[38;5;28;43mself\u001b[39;49m\u001b[38;5;241;43m.\u001b[39;49m\u001b[43m_getitem_tuple\u001b[49m\u001b[43m(\u001b[49m\u001b[43mkey\u001b[49m\u001b[43m)\u001b[49m\n\u001b[1;32m   1185\u001b[0m \u001b[38;5;28;01melse\u001b[39;00m:\n\u001b[1;32m   1186\u001b[0m     \u001b[38;5;66;03m# we by definition only have the 0th axis\u001b[39;00m\n\u001b[1;32m   1187\u001b[0m     axis \u001b[38;5;241m=\u001b[39m \u001b[38;5;28mself\u001b[39m\u001b[38;5;241m.\u001b[39maxis \u001b[38;5;129;01mor\u001b[39;00m \u001b[38;5;241m0\u001b[39m\n",
      "File \u001b[0;32m~/Zoho WorkDrive (Catalano Consulenze Tecniche)/My Folders/Documenti personali_/Partita IVA/Programming/Lotto/EstrazioniLotto/.venv/lib/python3.9/site-packages/pandas/core/indexing.py:1692\u001b[0m, in \u001b[0;36m_iLocIndexer._getitem_tuple\u001b[0;34m(self, tup)\u001b[0m\n\u001b[1;32m   1690\u001b[0m tup \u001b[38;5;241m=\u001b[39m \u001b[38;5;28mself\u001b[39m\u001b[38;5;241m.\u001b[39m_validate_tuple_indexer(tup)\n\u001b[1;32m   1691\u001b[0m \u001b[38;5;28;01mwith\u001b[39;00m suppress(IndexingError):\n\u001b[0;32m-> 1692\u001b[0m     \u001b[38;5;28;01mreturn\u001b[39;00m \u001b[38;5;28mself\u001b[39m\u001b[38;5;241m.\u001b[39m_getitem_lowerdim(tup)\n\u001b[1;32m   1694\u001b[0m \u001b[38;5;28;01mreturn\u001b[39;00m \u001b[38;5;28mself\u001b[39m\u001b[38;5;241m.\u001b[39m_getitem_tuple_same_dim(tup)\n",
      "\u001b[0;31mKeyboardInterrupt\u001b[0m: "
     ]
    }
   ],
   "source": [
    "# creiamo in dataframe contenenti tutti gli ambi e il loro numero spia a 5, 10 e 20 estrazioni\n",
    "dataframe = pd.DataFrame(columns=['Ambi', 'uscite', 'Spia10', 'rip10', 'tra10','Spia20', 'rip20', 'tra20'])\n",
    "n = Lottomatica.Lotto()\n",
    "ruota = 'BA'\n",
    "estrazioni = n.carica_estrazioni(ruota)\n",
    "\n",
    "for i in ambi:\n",
    "    i = list(map(int, i))\n",
    "    #print(f\"Coppia di numeri: {i}\")\n",
    "    n.carica_numero(i, estrazioni, 10)\n",
    "    n_uscite = n.n_uscite\n",
    "    spia10 = n.spia_num\n",
    "    rip10 = n.spia_rip\n",
    "    # calcoliamo il ritardo dell'uscita della spia (se è negativa significa che è in ritardo)\n",
    "    tra10 = 10 - Lfn.calcola_uscita_da_spia(spia10, ruota, 10)\n",
    "    n.carica_numero(i, estrazioni, 20)\n",
    "    spia20 = n.spia_num\n",
    "    rip20 = n.spia_rip\n",
    "    # calcoliamo il ritardo dell'uscita della spia (se è negativa significa che è in ritardo)\n",
    "    tra20 = 20 - Lfn.calcola_uscita_da_spia(spia20, ruota, 20)\n",
    "\n",
    "    nuova_riga = pd.DataFrame({\n",
    "        'Ambi': [i],\n",
    "        'uscite': [n_uscite],\n",
    "        'Spia10': [spia10],\n",
    "        'rip10': [rip10],\n",
    "        'tra10': [tra10],\n",
    "        'Spia20': [spia20],\n",
    "        'rip20': [rip20],\n",
    "        'tra20': [tra20]\n",
    "    })\n",
    "\n",
    "    dataframe = pd.concat([dataframe, nuova_riga], ignore_index=True)\n",
    "\n",
    "    # salviamo in un file csv in modalità append\n",
    "    dataframe.to_csv(PATH_ESTR+'ambi.csv', mode='w', index=False, header=True)\n",
    "\n",
    "\"\"\"     dataframe = dataframe.append({\n",
    "        'Ambi': i, \n",
    "        'uscite': n_uscite, \n",
    "        'Spia10': spia10, 'rip10': rip10, 'tra10': tra10,\n",
    "        'Spia20': spia20, 'rip20': rip20, 'tra20': tra20\n",
    "        }, ignore_index=True) \"\"\"\n",
    "\n",
    "dataframe.head(100)"
   ]
  },
  {
   "cell_type": "code",
   "execution_count": null,
   "metadata": {},
   "outputs": [
    {
     "name": "stdout",
     "output_type": "stream",
     "text": [
      "i numeri da giocare su MI sono: [[87], [21], [72], [6], [61], [73], [27], [70], [33], [69], [86], [20], [8], [51], [80]]\n",
      "Impossibile calcolare il trend\n",
      "ruota: MI\n",
      "numero: [87, 2]\n",
      "n_uscite: 18\n",
      "totale_estrazioni: 7085\n",
      "ultima_frequenza: 393.61\n",
      "ritardo_attuale: 11.0\n",
      "ritardo_massimo: 1024.0\n",
      "ultimo_ritardo: 352.0\n",
      "ultima_scompensazione: -3337.841958123576\n",
      "scompensazione_attuale: -3720.4519581235763\n",
      "spia_num: 66\n",
      "spia_rip: 18\n",
      "spia_estr: 10\n",
      "trend: nan\n"
     ]
    }
   ],
   "source": [
    "ambo = Lottomatica.Lotto()\n",
    "ambo.previsioni('MI')\n",
    "df = ambo.carica_estrazioni('MI')\n",
    "ambo.carica_numero([17, 10], df, 10)\n",
    "ambo.calcolo_trend()\n",
    "#ambo.calcolo_zigzag(40)\n",
    "ambo.stampa_statistihe()\n",
    "ambo.print_trend()"
   ]
  }
 ],
 "metadata": {
  "kernelspec": {
   "display_name": ".venv",
   "language": "python",
   "name": "python3"
  },
  "language_info": {
   "codemirror_mode": {
    "name": "ipython",
    "version": 3
   },
   "file_extension": ".py",
   "mimetype": "text/x-python",
   "name": "python",
   "nbconvert_exporter": "python",
   "pygments_lexer": "ipython3",
   "version": "3.9.5"
  },
  "orig_nbformat": 4
 },
 "nbformat": 4,
 "nbformat_minor": 2
}
