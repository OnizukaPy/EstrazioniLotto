{
 "cells": [
  {
   "cell_type": "code",
   "execution_count": 1,
   "metadata": {},
   "outputs": [],
   "source": [
    "# importazione delle librerie\n",
    "import pandas as pd\n",
    "import pandas_ta as ta\n",
    "import numpy as np\n",
    "import matplotlib.pyplot as plt\n",
    "from scipy.signal import argrelextrema\n",
    "from itertools import combinations, permutations\n",
    "\n",
    "import Lib.Funtions as fn\n",
    "import Lottomatica.Funtions as Lfn\n",
    "import Models.Lottomatica as Lottomatica\n",
    "from Lib.Path import PATH_ESTR\n",
    "\n",
    "# importiamo il path"
   ]
  },
  {
   "cell_type": "code",
   "execution_count": 19,
   "metadata": {},
   "outputs": [],
   "source": [
    "# upload arhivio\n",
    "fn.update_archivio()"
   ]
  },
  {
   "cell_type": "markdown",
   "metadata": {},
   "source": [
    "CREIAMO LA NOSTRA CLASSE PER IL GIOCO DEL LOTTO"
   ]
  },
  {
   "cell_type": "code",
   "execution_count": 2,
   "metadata": {},
   "outputs": [
    {
     "name": "stdout",
     "output_type": "stream",
     "text": [
      "4005\n"
     ]
    }
   ],
   "source": [
    "# creiamo una lista in numpy con tutti gli ambi in 90 numeri\n",
    "numeri = np.arange(1,91)\n",
    "ambi = np.array(list(combinations(numeri,2)))\n",
    "print(len(ambi))"
   ]
  },
  {
   "cell_type": "code",
   "execution_count": null,
   "metadata": {},
   "outputs": [],
   "source": [
    "# creiamo in dataframe contenenti tutti gli ambi e il loro numero spia a 5, 10 e 20 estrazioni\n",
    "dataframe = pd.DataFrame(columns=['Ambi', 'uscite', 'Spia10', 'rip10', 'tra10','Spia20', 'rip20', 'tra20'])\n",
    "n = Lottomatica.Lotto()\n",
    "ruota = 'BA'\n",
    "estrazioni = n.carica_estrazioni(ruota)\n",
    "\n",
    "for i in ambi:\n",
    "    i = list(map(int, i))\n",
    "    #print(f\"Coppia di numeri: {i}\")\n",
    "    n.carica_numero(i, estrazioni, 10)\n",
    "    n_uscite = n.n_uscite\n",
    "    spia10 = n.spia_num\n",
    "    rip10 = n.spia_rip\n",
    "    # calcoliamo il ritardo dell'uscita della spia (se è negativa significa che è in ritardo)\n",
    "    tra10 = 10 - Lfn.calcola_uscita_da_spia(spia10, ruota, 10)\n",
    "    n.carica_numero(i, estrazioni, 20)\n",
    "    spia20 = n.spia_num\n",
    "    rip20 = n.spia_rip\n",
    "    # calcoliamo il ritardo dell'uscita della spia (se è negativa significa che è in ritardo)\n",
    "    tra20 = 20 - Lfn.calcola_uscita_da_spia(spia20, ruota, 20)\n",
    "\n",
    "    nuova_riga = pd.DataFrame({\n",
    "        'Ambi': [i],\n",
    "        'uscite': [n_uscite],\n",
    "        'Spia10': [spia10],\n",
    "        'rip10': [rip10],\n",
    "        'tra10': [tra10],\n",
    "        'Spia20': [spia20],\n",
    "        'rip20': [rip20],\n",
    "        'tra20': [tra20]\n",
    "    })\n",
    "\n",
    "    dataframe = pd.concat([dataframe, nuova_riga], ignore_index=True)\n",
    "\n",
    "    # salviamo in un file csv in modalità append\n",
    "    dataframe.to_csv(PATH_ESTR+'ambi.csv', mode='w', index=False, header=True)\n",
    "\n",
    "\"\"\"     dataframe = dataframe.append({\n",
    "        'Ambi': i, \n",
    "        'uscite': n_uscite, \n",
    "        'Spia10': spia10, 'rip10': rip10, 'tra10': tra10,\n",
    "        'Spia20': spia20, 'rip20': rip20, 'tra20': tra20\n",
    "        }, ignore_index=True) \"\"\"\n",
    "\n",
    "dataframe.head(100)"
   ]
  },
  {
   "cell_type": "code",
   "execution_count": 5,
   "metadata": {},
   "outputs": [
    {
     "name": "stdout",
     "output_type": "stream",
     "text": [
      "i numeri da giocare su MI sono: [[87], [21], [72], [6], [61], [73], [27], [70], [33], [69], [86], [20], [8], [51], [80]]\n",
      "Impossibile calcolare il trend\n",
      "ruota: MI\n",
      "numero: [87, 2]\n",
      "n_uscite: 18\n",
      "totale_estrazioni: 7085\n",
      "ultima_frequenza: 393.61\n",
      "ritardo_attuale: 11.0\n",
      "ritardo_massimo: 1024.0\n",
      "ultimo_ritardo: 352.0\n",
      "ultima_scompensazione: -3337.841958123576\n",
      "scompensazione_attuale: -3720.4519581235763\n",
      "spia_num: 66\n",
      "spia_rip: 18\n",
      "spia_estr: 10\n",
      "trend: nan\n"
     ]
    }
   ],
   "source": [
    "ambo = Lottomatica.Lotto()\n",
    "ambo.previsioni('MI')\n",
    "df = ambo.carica_estrazioni('MI')\n",
    "ambo.carica_numero([87, 2], df, 10)\n",
    "ambo.calcolo_trend()\n",
    "#ambo.calcolo_zigzag(40)\n",
    "ambo.stampa_statistihe()\n",
    "ambo.print_trend()"
   ]
  }
 ],
 "metadata": {
  "kernelspec": {
   "display_name": ".venv",
   "language": "python",
   "name": "python3"
  },
  "language_info": {
   "codemirror_mode": {
    "name": "ipython",
    "version": 3
   },
   "file_extension": ".py",
   "mimetype": "text/x-python",
   "name": "python",
   "nbconvert_exporter": "python",
   "pygments_lexer": "ipython3",
   "version": "3.9.5"
  },
  "orig_nbformat": 4
 },
 "nbformat": 4,
 "nbformat_minor": 2
}
