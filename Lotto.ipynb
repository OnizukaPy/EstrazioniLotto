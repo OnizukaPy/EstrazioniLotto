{
 "cells": [
  {
   "cell_type": "code",
   "execution_count": null,
   "metadata": {},
   "outputs": [],
   "source": [
    "# http://lottoscar.altervista.org/archivi.html\n",
    "# https://www.simplifiedpython.net/python-download-file/#Download_Zip_File \n",
    "# https://living-sun.com/it/python/705402-how-can-i-extract-a-closed-zip-with-python-python-zipfile.html\n"
   ]
  },
  {
   "cell_type": "code",
   "execution_count": 2,
   "metadata": {},
   "outputs": [],
   "source": [
    "# importazione delle librerie\n",
    "import requests\n",
    "import zipfile\n",
    "import csv\n",
    "import pandas as pd\n",
    "import funzioni as fun"
   ]
  },
  {
   "cell_type": "code",
   "execution_count": 6,
   "metadata": {},
   "outputs": [],
   "source": [
    "# download archivio\n",
    "url = \"http://lottoscar.altervista.org/ArchivioLotto.italia.zip\"\n",
    "r = requests.get(url)\n",
    "with open(\"ArchivioLotto.italia.zip\", \"wb\") as zip:\n",
    "    zip.write(r.content)\n",
    "\n",
    "# estrazione del file zip\n",
    "f = zipfile.ZipFile(\"ArchivioLotto.italia.zip\")\n",
    "f.extractall()\n"
   ]
  },
  {
   "cell_type": "code",
   "execution_count": 4,
   "metadata": {},
   "outputs": [],
   "source": [
    "# elaborazione delle singole ruote dal file generale\n",
    "fun.estrai_ruote('ArchivioLotto.italia.csv')"
   ]
  },
  {
   "cell_type": "code",
   "execution_count": 36,
   "metadata": {},
   "outputs": [],
   "source": [
    "\n"
   ]
  },
  {
   "cell_type": "code",
   "execution_count": 6,
   "metadata": {},
   "outputs": [
    {
     "name": "stdout",
     "output_type": "stream",
     "text": [
      "            Data Ruota   1   2   3   4   5  Somma  n.est\n",
      "0     07/01/1939    BA  58  22  47  49  69    245      1\n",
      "1     14/01/1939    BA  18  77  33  62  19    209      2\n",
      "2     21/01/1939    BA  68  65  41  28  67    269      3\n",
      "3     28/01/1939    BA  76  55  48  85  71    335      4\n",
      "4     04/02/1939    BA  70   2  20  85  75    252      5\n",
      "...          ...   ...  ..  ..  ..  ..  ..    ...    ...\n",
      "6587  20/09/2022    BA  84  80  26  24  88    302   6588\n",
      "6588  22/09/2022    BA  63  73  51  16  58    261   6589\n",
      "6589  24/09/2022    BA  25  47  35  20   9    136   6590\n",
      "6590  27/09/2022    BA  41  88   5  22  37    193   6591\n",
      "6591  29/09/2022    BA  80  35  90  49  65    319   6592\n",
      "\n",
      "[6592 rows x 9 columns]\n",
      "6592\n"
     ]
    }
   ],
   "source": [
    "\n",
    "df = pd.read_csv(\"BA.csv\")\n",
    "df[\"Somma\"] = df[\"1\"] + df[\"2\"] + df[\"3\"] + df[\"4\"] + df[\"5\"]\n",
    "\n",
    "count = 0\n",
    "count_list = []\n",
    "for i in range(len(df)):\n",
    "    count += 1\n",
    "    count_list.append(count)\n",
    "\n",
    "df[\"n.est\"] = count_list\n",
    "\n",
    "print(df)\n",
    "print(len(df))"
   ]
  },
  {
   "cell_type": "code",
   "execution_count": 34,
   "metadata": {},
   "outputs": [],
   "source": [
    "with open('foo.csv', 'w', newline='') as csvfile:\n",
    "  spamwriter = csv.writer(csvfile)\n",
    "  spamwriter.writerow(['Spam'] * 5 + ['Baked Beans'])\n",
    "  spamwriter.writerow(['Spam', 'Lovely Spam', 'Wonderful Spam'])"
   ]
  }
 ],
 "metadata": {
  "kernelspec": {
   "display_name": "Python 3.10.6 64-bit",
   "language": "python",
   "name": "python3"
  },
  "language_info": {
   "codemirror_mode": {
    "name": "ipython",
    "version": 3
   },
   "file_extension": ".py",
   "mimetype": "text/x-python",
   "name": "python",
   "nbconvert_exporter": "python",
   "pygments_lexer": "ipython3",
   "version": "3.10.6"
  },
  "orig_nbformat": 4,
  "vscode": {
   "interpreter": {
    "hash": "916dbcbb3f70747c44a77c7bcd40155683ae19c65e1c03b4aa3499c5328201f1"
   }
  }
 },
 "nbformat": 4,
 "nbformat_minor": 2
}
