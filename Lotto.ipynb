{
 "cells": [
  {
   "cell_type": "code",
   "execution_count": null,
   "metadata": {},
   "outputs": [],
   "source": [
    "# http://lottoscar.altervista.org/archivi.html\n",
    "# https://www.simplifiedpython.net/python-download-file/#Download_Zip_File \n",
    "# https://living-sun.com/it/python/705402-how-can-i-extract-a-closed-zip-with-python-python-zipfile.html\n"
   ]
  },
  {
   "cell_type": "code",
   "execution_count": 2,
   "metadata": {},
   "outputs": [],
   "source": [
    "# importazione delle librerie\n",
    "import requests\n",
    "import zipfile\n",
    "import csv\n",
    "import pandas as pd\n",
    "import numpy as np\n",
    "import funzioni as fn\n",
    "from pprint import pprint\n",
    "from itertools import combinations\n"
   ]
  },
  {
   "cell_type": "code",
   "execution_count": 40,
   "metadata": {},
   "outputs": [],
   "source": [
    "class Numero:\n",
    "\n",
    "    def __init__(self, n, dataset):\n",
    "\n",
    "        self.ritardo = 0\n",
    "        self.frequenza = 0\n",
    "        self.numero = n\n",
    "        self.dataset = dataset\n",
    "        self.ruota = dataset[0][1]\n",
    "        self.ritardi = []\n",
    "\n",
    "    def info(self):\n",
    "        temp = []\n",
    "        #print(self.dataset[0][2:])\n",
    "        for i in range(len(self.dataset)):\n",
    "            #print(self.dataset[i][2:])\n",
    "            if str(self.numero) in self.dataset[i][2:]:\n",
    "                temp.append(i+1)\n",
    "        self.ritardo = temp[len(temp)-1] - temp[len(temp)-2]\n",
    "\n",
    "        \n",
    "        for i in range(1, len(temp)):\n",
    "            self.ritardi.append(temp[i] - temp[i-1])\n",
    "\n",
    "        \n",
    "        self.ritardo_max = max(self.ritardi)\n",
    "        self.frequenza = int((len(self.dataset)+1)/(len(temp)+1))\n",
    "\n",
    "    def mostra_info(self):\n",
    "\n",
    "        valori = {\n",
    "            \"Numero\" : self.numero,\n",
    "            \"Ruota\" : self.ruota,\n",
    "            \"Ritardo\" : self.ritardo,\n",
    "            \"Ritardo Massimo\" : self.ritardo_max,\n",
    "            \"Frequenza\" : self.frequenza,\n",
    "        }\n",
    "\n",
    "        return valori"
   ]
  },
  {
   "cell_type": "code",
   "execution_count": 5,
   "metadata": {},
   "outputs": [],
   "source": [
    "class Ambi:\n",
    "\n",
    "    def __init__(self, n, dataset):\n",
    "\n",
    "        self.ritardo = 0\n",
    "        self.frequenza = 0\n",
    "        self.ambo = (str(n[0]), str(n[1]))              # come un turple (a, b)\n",
    "        self.dataset = dataset\n",
    "        self.ruota = dataset[0][1]\n",
    "        self.ritardi = []\n",
    "\n",
    "    def info(self):\n",
    "        temp = []\n",
    "        for i in range(len(self.dataset)):\n",
    "            comb = list(combinations(self.dataset[i][2:], 2))\n",
    "            #print(comb)\n",
    "            if self.ambo in comb:\n",
    "                temp.append(i+1)\n",
    "        if len(temp) == 0:\n",
    "            self.ritardo = len(self.dataset) + 1\n",
    "            self.ritardo_max = self.ritardo\n",
    "            self.frequenza = 0\n",
    "        else:\n",
    "            self.ritardo = temp[len(temp)-1] - temp[len(temp)-2]\n",
    "\n",
    "            \n",
    "            for i in range(1, len(temp)):\n",
    "                self.ritardi.append(temp[i] - temp[i-1])\n",
    "\n",
    "            self.ritardo_max = max(self.ritardi)\n",
    "            self.frequenza = int((len(self.dataset)+1)/(len(temp)+1))\n",
    "\n",
    "    def mostra_info(self):\n",
    "\n",
    "        valori = {\n",
    "            \"Numero\" : self.ambo,\n",
    "            \"Ruota\" : self.ruota,\n",
    "            \"Ritardo\" : self.ritardo,\n",
    "            \"Ritardo Massimo\" : self.ritardo_max,\n",
    "            \"Frequenza\" : self.frequenza,\n",
    "        }\n",
    "\n",
    "        return valori\n",
    "    "
   ]
  },
  {
   "cell_type": "code",
   "execution_count": 83,
   "metadata": {},
   "outputs": [
    {
     "data": {
      "text/plain": [
       "True"
      ]
     },
     "execution_count": 83,
     "metadata": {},
     "output_type": "execute_result"
    }
   ],
   "source": [
    "prova = [1, 2, 3, 4, 5]\n",
    "comb = combinations(prova, 2)\n",
    "a = list(comb)\n",
    "(1, 2) in a"
   ]
  },
  {
   "cell_type": "code",
   "execution_count": 6,
   "metadata": {},
   "outputs": [],
   "source": [
    "# download archivio\n",
    "url = \"http://lottoscar.altervista.org/ArchivioLotto.italia.zip\"\n",
    "r = requests.get(url)\n",
    "with open(\"ArchivioLotto.italia.zip\", \"wb\") as zip:\n",
    "    zip.write(r.content)\n",
    "\n",
    "# estrazione del file zip\n",
    "f = zipfile.ZipFile(\"ArchivioLotto.italia.zip\")\n",
    "f.extractall()\n"
   ]
  },
  {
   "cell_type": "code",
   "execution_count": 4,
   "metadata": {},
   "outputs": [],
   "source": [
    "# elaborazione delle singole ruote dal file generale\n",
    "fn.estrai_ruote('ArchivioLotto.italia.csv')"
   ]
  },
  {
   "cell_type": "code",
   "execution_count": 7,
   "metadata": {},
   "outputs": [],
   "source": [
    "data = fn.leggi_da_csv(\"BA.csv\")"
   ]
  },
  {
   "cell_type": "code",
   "execution_count": 8,
   "metadata": {},
   "outputs": [],
   "source": [
    "numeri = []\n",
    "for n in range(1, 91):\n",
    "    t = Numero(n, data[1:])\n",
    "    t.info()\n",
    "    numeri.append([t.mostra_info()])\n",
    "\n"
   ]
  },
  {
   "cell_type": "code",
   "execution_count": 10,
   "metadata": {},
   "outputs": [
    {
     "name": "stdout",
     "output_type": "stream",
     "text": [
      "[14, 32, 49, 62, 65, 68, 73, 84]\n"
     ]
    }
   ],
   "source": [
    "lista_numeri = []\n",
    "for i in numeri:\n",
    "    #print(i)\n",
    "    d = int(i[0][\"Frequenza\"]) - int(i[0][\"Ritardo\"])\n",
    "    p = int(i[0][\"Ritardo\"]) < int(i[0][\"Frequenza\"])\n",
    "    f = int(i[0][\"Frequenza\"])\n",
    "    if p and d < 5 and f < 20:\n",
    "        #print(i[0][\"Numero\"])\n",
    "        lista_numeri.append(i[0][\"Numero\"])\n",
    "\n",
    "print(lista_numeri)\n"
   ]
  },
  {
   "cell_type": "code",
   "execution_count": null,
   "metadata": {},
   "outputs": [],
   "source": [
    "ambi = []\n",
    "comb = list(combinations(lista_numeri, 2))\n",
    "for a in comb:\n",
    "    t = Ambi(a, data[1:])\n",
    "    t.info()\n",
    "    ambi.append([t.mostra_info()])\n",
    "\n",
    "#print(ambi[0])\n",
    "for i in ambi:\n",
    "    a = int(i[0][\"Ritardo\"]) != int(i[0][\"Ritardo Massimo\"])\n",
    "    b = int(i[0][\"Ritardo\"]) < int(i[0][\"Frequenza\"])\n",
    "    if a and b:\n",
    "        print(i)"
   ]
  },
  {
   "cell_type": "code",
   "execution_count": 44,
   "metadata": {},
   "outputs": [],
   "source": [
    "ambo = Ambi([14, 32], data)\n",
    "due = Numero(2, data)\n"
   ]
  },
  {
   "cell_type": "code",
   "execution_count": null,
   "metadata": {},
   "outputs": [],
   "source": [
    "df = pd.DataFrame()\n",
    "for i in range(1, 91):\n",
    "    temp = Numero(i, data)\n",
    "    temp.info()\n",
    "    n = str(i)\n",
    "    df[n] = temp.ritardi\n",
    "print(df)"
   ]
  }
 ],
 "metadata": {
  "kernelspec": {
   "display_name": "Python 3.10.6 64-bit",
   "language": "python",
   "name": "python3"
  },
  "language_info": {
   "codemirror_mode": {
    "name": "ipython",
    "version": 3
   },
   "file_extension": ".py",
   "mimetype": "text/x-python",
   "name": "python",
   "nbconvert_exporter": "python",
   "pygments_lexer": "ipython3",
   "version": "3.10.6"
  },
  "orig_nbformat": 4,
  "vscode": {
   "interpreter": {
    "hash": "916dbcbb3f70747c44a77c7bcd40155683ae19c65e1c03b4aa3499c5328201f1"
   }
  }
 },
 "nbformat": 4,
 "nbformat_minor": 2
}
