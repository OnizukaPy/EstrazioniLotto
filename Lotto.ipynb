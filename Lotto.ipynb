{
 "cells": [
  {
   "cell_type": "code",
   "execution_count": null,
   "metadata": {},
   "outputs": [],
   "source": [
    "# http://lottoscar.altervista.org/archivi.html\n",
    "# https://www.simplifiedpython.net/python-download-file/#Download_Zip_File \n",
    "# https://living-sun.com/it/python/705402-how-can-i-extract-a-closed-zip-with-python-python-zipfile.html\n"
   ]
  },
  {
   "cell_type": "code",
   "execution_count": 1,
   "metadata": {},
   "outputs": [],
   "source": [
    "# importazione delle librerie\n",
    "import requests\n",
    "import zipfile\n",
    "import csv\n",
    "import pandas as pd\n",
    "import numpy as np\n",
    "import funzioni as fn\n",
    "from pprint import pprint\n",
    "from itertools import combinations\n"
   ]
  },
  {
   "cell_type": "markdown",
   "metadata": {},
   "source": [
    "CLASSI"
   ]
  },
  {
   "cell_type": "code",
   "execution_count": 43,
   "metadata": {},
   "outputs": [],
   "source": [
    "class Numero:\n",
    "\n",
    "    def __init__(self, n, dataset):\n",
    "\n",
    "        self.precedente_ritardo = 0\n",
    "        self.frequenza = 0\n",
    "        self.numero = n\n",
    "        self.dataset = dataset\n",
    "        self.ruota = dataset[1][1]\n",
    "        self.ritardi = []\n",
    "        self.scompensi = []\n",
    "        self.scomp = 0\n",
    "\n",
    "    def info(self):\n",
    "        temp = []\n",
    "        #print(self.dataset[0][2:])\n",
    "        for i in range(len(self.dataset)):\n",
    "            #print(self.dataset[i][2:])\n",
    "            if str(self.numero) in self.dataset[i][2:]:\n",
    "                temp.append(i+1)\n",
    "\n",
    "        if len(temp) == 0:\n",
    "            self.precedente_ritardo = len(self.dataset) + 1\n",
    "            self.ritardo_max = self.precedente_ritardo\n",
    "            self.frequenza = 0\n",
    "            self.previsione = np.NaN\n",
    "            self.scomp = np.NaN\n",
    "        else:\n",
    "            self.precedente_ritardo = temp[len(temp)-1] - temp[len(temp)-2] # Rutaro precedente all'ultima uscita\n",
    "            self.ultimo_ritardo = len(self.dataset) - temp[len(temp)-1]     # ritardo all'ultima uscita\n",
    "        \n",
    "            for i in range(1, len(temp)):\n",
    "                r = temp[i] - temp[i-1]                 # Ritardo del numero nel momento in cui è uscito\n",
    "                self.ritardi.append(r)                  # archivio dei ritardi\n",
    "                n_estr = temp[i]                        # numero della estrazione del numero nel momento in cui è uscito\n",
    "                freq = int(n_estr / len(temp[:i]))      # frequenza nel momento in cui è uscito\n",
    "                self.scomp += (r - freq)                # scompensazione nel momento in cui è uscito\n",
    "                self.scompensi.append(self.scomp)\n",
    "\n",
    "            self.ritardo_max = max(self.ritardi)                        # massimo ritardo fatto dal numero\n",
    "            self.frequenza = int((len(self.dataset)+1)/(len(temp)+1))   # frequenza attuale\n",
    "            self.previsione = self.frequenza - self.ultimo_ritardo      # previsione di uscita calcolata sulla frequenza e il ritardo attiale\n",
    "\n",
    "    def mostra_info(self):\n",
    "\n",
    "        #valori = {\n",
    "        #    \"Numero\" : self.numero,\n",
    "        #    \"Ruota\" : self.ruota,\n",
    "        #    \"Ritardo Precedente\" : self.precedente_ritardo,\n",
    "        #    \"Ritardo Attuale\" : self.ultimo_ritardo,\n",
    "        #    \"Ritardo Massimo\" : self.ritardo_max,\n",
    "        #    \"Frequenza\" : self.frequenza,\n",
    "        #    \"Previsione\" : self.previsione,\n",
    "        #    \"Scompensazione\": self.scomp\n",
    "        #}\n",
    "\n",
    "        valori = [\n",
    "            self.numero,\n",
    "            self.ruota,\n",
    "            self.precedente_ritardo,\n",
    "            self.ultimo_ritardo,\n",
    "            self.ritardo_max,\n",
    "            self.frequenza,\n",
    "            self.previsione,\n",
    "            self.scomp\n",
    "            ]\n",
    "\n",
    "        return valori\n"
   ]
  },
  {
   "cell_type": "code",
   "execution_count": 3,
   "metadata": {},
   "outputs": [],
   "source": [
    "class Ambi:\n",
    "\n",
    "    def __init__(self, n, dataset):\n",
    "\n",
    "        self.ritardo = 0\n",
    "        self.frequenza = 0\n",
    "        self.ambo = (str(n[0]), str(n[1]))              # come un turple (a, b)\n",
    "        self.dataset = dataset\n",
    "        self.ruota = dataset[1][1]\n",
    "        self.ritardi = []\n",
    "\n",
    "    def info(self):\n",
    "        temp = []\n",
    "        for i in range(len(self.dataset)):\n",
    "            comb = list(combinations(self.dataset[i][2:], 2))\n",
    "            #print(comb)\n",
    "            if self.ambo in comb:\n",
    "                temp.append(i+1)\n",
    "        if len(temp) == 0:\n",
    "            self.ritardo = len(self.dataset) + 1\n",
    "            self.ritardo_max = self.ritardo\n",
    "            self.frequenza = 0\n",
    "            self.previsione = \"N/A\"\n",
    "        else:\n",
    "            self.ritardo = temp[len(temp)-1] - temp[len(temp)-2]\n",
    "            self.ultimo_ritardo = len(self.dataset) - temp[len(temp)-1]\n",
    "        \n",
    "            for i in range(1, len(temp)):\n",
    "                self.ritardi.append(temp[i] - temp[i-1])\n",
    "\n",
    "            self.ritardo_max = max(self.ritardi)\n",
    "            self.ritardo_medio = int(sum(self.ritardi)/len(self.ritardi))\n",
    "            self.frequenza = int((len(self.dataset)+1)/(len(temp)+1))\n",
    "            self.previsione = self.frequenza - self.ultimo_ritardo\n",
    "\n",
    "    def mostra_info(self):\n",
    "\n",
    "        valori = {\n",
    "            \"Ambo\" : self.ambo,\n",
    "            \"Ruota\" : self.ruota,\n",
    "            \"Ultimo Ritardo\" : self.ritardo,\n",
    "            \"Ritardo Attuale\" : self.ultimo_ritardo,\n",
    "            \"Ritardo Massimo\" : self.ritardo_max,\n",
    "            \"Media Ritardi\" : self.ritardo_medio,\n",
    "            \"Frequenza\" : self.frequenza,\n",
    "            \"Previsione\" : self.previsione\n",
    "        }\n",
    "\n",
    "        return valori\n",
    "    "
   ]
  },
  {
   "cell_type": "markdown",
   "metadata": {},
   "source": [
    "FUNZIONI"
   ]
  },
  {
   "cell_type": "code",
   "execution_count": 63,
   "metadata": {},
   "outputs": [],
   "source": [
    "# Funzione per scaricare il database dei numeri\n",
    "def update_archivio():\n",
    "    # download archivio\n",
    "    url = \"http://lottoscar.altervista.org/ArchivioLotto.italia.zip\"\n",
    "    r = requests.get(url)\n",
    "    with open(\"ArchivioLotto.italia.zip\", \"wb\") as zip:\n",
    "        zip.write(r.content)\n",
    "\n",
    "    # estrazione del file zip\n",
    "    f = zipfile.ZipFile(\"ArchivioLotto.italia.zip\")\n",
    "    f.extractall()\n",
    "    # elaborazione delle singole ruote dal file generale\n",
    "    fn.estrai_ruote('ArchivioLotto.italia.csv')\n"
   ]
  },
  {
   "cell_type": "code",
   "execution_count": 67,
   "metadata": {},
   "outputs": [],
   "source": [
    "# Funzione per creare una tabella con tutte le statistiche di ogni numero\n",
    "def print_numeri(data):\n",
    "    numeri = []\n",
    "    for n in range(1, 91):\n",
    "        t = Numero(n, data)\n",
    "        t.info()\n",
    "        numeri.append(t.mostra_info())\n",
    "    \n",
    "    return numeri\n"
   ]
  },
  {
   "cell_type": "code",
   "execution_count": 64,
   "metadata": {},
   "outputs": [],
   "source": [
    "# Funzione per creare una tabella con tutte le statistiche di ogni numero\n",
    "def print_dataframe_from_numeri(data):\n",
    "    numeri = print_numeri(data)\n",
    "    df = pd.DataFrame(numeri, columns=[\n",
    "                                        \"Numero\", \n",
    "                                        \"Ruota\", \n",
    "                                        \"Ritardo Precedente\",\n",
    "                                        \"Ritardo Attuale\",\n",
    "                                        \"Ritardo Massimo\", \n",
    "                                        \"Frequenza\", \n",
    "                                        \"Previsione\",\n",
    "                                        \"Scompensazione\"\n",
    "                                        ]\n",
    "                    ).set_index(\n",
    "                                [\n",
    "                                    \"Numero\", \n",
    "                                    \"Ruota\"\n",
    "                                ]\n",
    "                            )\n",
    "\n",
    "    return df"
   ]
  },
  {
   "cell_type": "markdown",
   "metadata": {},
   "source": [
    "CODICE"
   ]
  },
  {
   "cell_type": "code",
   "execution_count": 62,
   "metadata": {},
   "outputs": [
    {
     "ename": "NameError",
     "evalue": "name 'update_archivio' is not defined",
     "output_type": "error",
     "traceback": [
      "\u001b[0;31m---------------------------------------------------------------------------\u001b[0m",
      "\u001b[0;31mNameError\u001b[0m                                 Traceback (most recent call last)",
      "Cell \u001b[0;32mIn [62], line 1\u001b[0m\n\u001b[0;32m----> 1\u001b[0m update_archivio()\n\u001b[1;32m      2\u001b[0m data \u001b[39m=\u001b[39m fn\u001b[39m.\u001b[39mleggi_da_csv(\u001b[39m\"\u001b[39m\u001b[39mBA.csv\u001b[39m\u001b[39m\"\u001b[39m)\n",
      "\u001b[0;31mNameError\u001b[0m: name 'update_archivio' is not defined"
     ]
    }
   ],
   "source": [
    "update_archivio()\n",
    "data = fn.leggi_da_csv(\"BA.csv\")"
   ]
  },
  {
   "cell_type": "code",
   "execution_count": 68,
   "metadata": {},
   "outputs": [
    {
     "name": "stdout",
     "output_type": "stream",
     "text": [
      "[[1, 'BA', 20, 22, 91, 17, -5, 650], [2, 'BA', 5, 1, 105, 18, 17, 153], [3, 'BA', 13, 6, 107, 17, 11, -384], [4, 'BA', 3, 2, 99, 16, 14, 33], [5, 'BA', 98, 10, 109, 17, 7, 190], [6, 'BA', 9, 33, 111, 19, -14, 484], [7, 'BA', 22, 21, 147, 19, -2, -233], [8, 'BA', 26, 23, 107, 17, -6, -40], [9, 'BA', 5, 11, 79, 17, 6, 388], [10, 'BA', 9, 17, 131, 17, 0, 32], [11, 'BA', 5, 1, 97, 18, 17, -77], [12, 'BA', 7, 26, 95, 17, -9, -532], [13, 'BA', 13, 21, 96, 18, -3, 39], [14, 'BA', 14, 2, 152, 17, 15, -104], [15, 'BA', 26, 3, 111, 16, 13, -67], [16, 'BA', 5, 12, 121, 18, 6, 261], [17, 'BA', 3, 14, 125, 18, 4, 263], [18, 'BA', 5, 28, 95, 18, -10, 726], [19, 'BA', 10, 29, 91, 18, -11, 155], [20, 'BA', 7, 4, 134, 16, 12, 251], [21, 'BA', 22, 16, 202, 19, 3, 234], [22, 'BA', 3, 7, 115, 17, 10, 328], [23, 'BA', 2, 0, 114, 17, 17, -198], [24, 'BA', 1, 13, 117, 20, 7, 77], [25, 'BA', 16, 11, 141, 20, 9, -146], [26, 'BA', 6, 13, 106, 16, 3, 142], [27, 'BA', 41, 6, 108, 18, 12, -84], [28, 'BA', 35, 0, 140, 19, 19, 662], [29, 'BA', 5, 1, 108, 18, 17, 298], [30, 'BA', 24, 1, 87, 16, 15, -7], [31, 'BA', 4, 59, 168, 18, -41, -56], [32, 'BA', 7, 7, 112, 19, 12, -21], [33, 'BA', 112, 8, 114, 18, 10, 167], [34, 'BA', 8, 16, 103, 16, 0, -374], [35, 'BA', 2, 9, 122, 17, 8, 182], [36, 'BA', 44, 8, 93, 18, 10, 731], [37, 'BA', 10, 10, 143, 17, 7, 641], [38, 'BA', 8, 7, 154, 19, 12, -246], [39, 'BA', 2, 2, 104, 19, 17, -148], [40, 'BA', 18, 46, 117, 16, -30, 52], [41, 'BA', 72, 10, 139, 19, 9, 178], [42, 'BA', 19, 23, 91, 19, -4, 47], [43, 'BA', 13, 18, 131, 19, 1, -666], [44, 'BA', 65, 1, 107, 17, 16, 250], [45, 'BA', 66, 5, 134, 20, 15, -139], [46, 'BA', 38, 23, 99, 17, -6, 472], [47, 'BA', 3, 11, 107, 16, 5, 219], [48, 'BA', 4, 22, 109, 15, -7, -185], [49, 'BA', 15, 9, 110, 18, 9, -150], [50, 'BA', 6, 67, 121, 18, -49, 453], [51, 'BA', 1, 4, 94, 16, 12, -2], [52, 'BA', 1, 3, 108, 18, 15, 234], [53, 'BA', 47, 24, 104, 17, -7, 541], [54, 'BA', 34, 3, 101, 17, 14, 351], [55, 'BA', 26, 23, 197, 18, -5, -333], [56, 'BA', 8, 22, 111, 17, -5, 17], [57, 'BA', 4, 28, 88, 19, -9, -659], [58, 'BA', 4, 8, 115, 17, 9, 259], [59, 'BA', 19, 27, 109, 16, -11, 420], [60, 'BA', 4, 53, 86, 16, -37, 207], [61, 'BA', 3, 79, 145, 17, -62, -985], [62, 'BA', 15, 28, 102, 16, -12, 144], [63, 'BA', 2, 12, 130, 18, 6, 934], [64, 'BA', 4, 35, 106, 19, -16, -144], [65, 'BA', 15, 9, 108, 18, 9, 189], [66, 'BA', 25, 5, 117, 16, 11, -241], [67, 'BA', 5, 3, 117, 19, 16, -433], [68, 'BA', 75, 8, 83, 17, 9, 273], [69, 'BA', 8, 20, 97, 16, -4, 162], [70, 'BA', 2, 30, 106, 17, -13, 23], [71, 'BA', 10, 20, 115, 18, -2, -84], [72, 'BA', 49, 2, 118, 19, 17, 299], [73, 'BA', 12, 0, 79, 18, 18, -520], [74, 'BA', 3, 25, 123, 17, -8, 274], [75, 'BA', 20, 3, 98, 16, 13, -109], [76, 'BA', 11, 16, 113, 18, 2, 568], [77, 'BA', 30, 40, 87, 18, -22, -431], [78, 'BA', 2, 15, 121, 16, 1, 297], [79, 'BA', 58, 4, 125, 18, 14, 198], [80, 'BA', 4, 9, 97, 19, 10, 8], [81, 'BA', 3, 64, 99, 16, -48, -15], [82, 'BA', 18, 0, 194, 18, 18, -129], [83, 'BA', 88, 15, 114, 17, 2, -143], [84, 'BA', 6, 7, 138, 16, 9, 303], [85, 'BA', 39, 5, 136, 17, 12, 424], [86, 'BA', 7, 27, 125, 18, -9, -451], [87, 'BA', 26, 46, 74, 16, -30, -170], [88, 'BA', 3, 10, 87, 17, 7, 45], [89, 'BA', 17, 0, 90, 17, 17, 472], [90, 'BA', 12, 9, 84, 18, 9, -430]]\n"
     ]
    }
   ],
   "source": [
    "database = print_numeri(data)\n",
    "print(database)\n"
   ]
  },
  {
   "cell_type": "code",
   "execution_count": null,
   "metadata": {},
   "outputs": [],
   "source": [
    "lista_numeri = []\n",
    "for i in numeri:\n",
    "    #print(i)\n",
    "    p = int(i[0][\"Previsione\"])\n",
    "    r = int(i[0][\"Ritardo Attuale\"]) < int(i[0][\"Frequenza\"])\n",
    "    f = int(i[0][\"Frequenza\"])\n",
    "    if p and (p < 10 and p > 0) and f < 20:\n",
    "        #print(i[0][\"Numero\"])\n",
    "        lista_numeri.append(i[0][\"Numero\"])\n",
    "        print(i)\n",
    "\n",
    "print(lista_numeri)\n"
   ]
  },
  {
   "cell_type": "code",
   "execution_count": 10,
   "metadata": {},
   "outputs": [
    {
     "name": "stdout",
     "output_type": "stream",
     "text": [
      "[{'Ambo': ('17', '65'), 'Ruota': 'BA', 'Ultimo Ritardo': 223, 'Ritardo Attuale': 718, 'Ritardo Massimo': 3095, 'Media Ritardi': 822, 'Frequenza': 733, 'Previsione': 15}]\n"
     ]
    }
   ],
   "source": [
    "ambi = []\n",
    "comb = list(combinations(lista_numeri, 2))\n",
    "for a in comb:\n",
    "    t = Ambi(a, data[1:])\n",
    "    t.info()\n",
    "    ambi.append([t.mostra_info()])\n",
    "\n",
    "#print(ambi[0])\n",
    "for i in ambi:\n",
    "    a = int(i[0][\"Ritardo Attuale\"]) != int(i[0][\"Ritardo Massimo\"])\n",
    "    b = int(i[0][\"Ritardo Attuale\"]) < int(i[0][\"Frequenza\"])\n",
    "    d = int(i[0][\"Previsione\"])\n",
    "    if a and b and d < 20:\n",
    "        print(i)"
   ]
  },
  {
   "cell_type": "code",
   "execution_count": 22,
   "metadata": {},
   "outputs": [
    {
     "name": "stdout",
     "output_type": "stream",
     "text": [
      "     close  SMA_10     SMA_30  SMA_sigLine\n",
      "0       12     NaN        NaN          0.0\n",
      "1       15     NaN        NaN          0.0\n",
      "2        9     NaN        NaN          0.0\n",
      "3       22     NaN        NaN          0.0\n",
      "4       27     NaN        NaN          0.0\n",
      "..     ...     ...        ...          ...\n",
      "368      3    17.9  18.466667          0.0\n",
      "369      4    16.3  17.966667          0.0\n",
      "370     14    17.3  18.000000          0.0\n",
      "371     56    22.6  19.033333          1.0\n",
      "372     20    19.8  19.166667          1.0\n",
      "\n",
      "[373 rows x 4 columns]\n"
     ]
    }
   ],
   "source": [
    "import pandas_ta as ta\n",
    "import matplotlib.pyplot as plt\n",
    "\n",
    "df = pd.DataFrame()\n",
    "\n",
    "temp = Numero(1, data)\n",
    "temp.info()\n",
    "n = str(\"close\")\n",
    "df[n] = temp.ritardi\n",
    "sma10 = df.ta.sma(length=10)\n",
    "sma30 = df.ta.sma(length=30)\n",
    "df = pd.concat([df[n], sma10, sma30], axis=1)\n",
    "df['SMA_sigLine'] = np.where(df['SMA_10'] > df['SMA_30'], 1.0, 0.0 )\n",
    "df.to_csv(\"stats.csv\")\n",
    "print(df)"
   ]
  },
  {
   "cell_type": "code",
   "execution_count": 81,
   "metadata": {},
   "outputs": [],
   "source": [
    "def plot_graph(df):\n",
    "\n",
    "    df=df.astype(float)\n",
    "    plt.rcParams[\"figure.figsize\"] = (36, 30)\n",
    "    #plt.rcParams[\"savefig.format\"] = 'png'  \n",
    "\n",
    "    # plotting di tutte le curve \n",
    "    plt.plot(df['close'], color='blue', label='ritardo')\n",
    "\n",
    "    # configuraione degli assi\n",
    "    plt.xlabel('Numero uscita',fontsize=18)\n",
    "    plt.ylabel('Riardo',fontsize=18)\n",
    "\n",
    "    # plot signals EMA_RSI_ATR\n",
    "    #plt.plot(df.index, df['BuyEMA_RSI_ATR'], '^', markersize = 15, color = 'purple', label='BuyEMA_RSI_ATR') # plot ‘Buy’ signals\n",
    "    #plt.plot(df.index, df['SellEMA_RSI_ATR'], 'v', markersize = 15, color = 'black', label='SellEMA_RSI_ATR') # plot ‘Sell’ signals\n",
    "\n",
    "    # configurazioni del titolo, leggende, griglia\n",
    "    plt.title('GRAFICO', fontsize = 20)\n",
    "    plt.legend()\n",
    "    plt.grid()\n",
    "    plt.show()"
   ]
  },
  {
   "cell_type": "code",
   "execution_count": 85,
   "metadata": {},
   "outputs": [],
   "source": [
    "#plot_graph(df)"
   ]
  }
 ],
 "metadata": {
  "kernelspec": {
   "display_name": "Python 3.10.6 64-bit",
   "language": "python",
   "name": "python3"
  },
  "language_info": {
   "codemirror_mode": {
    "name": "ipython",
    "version": 3
   },
   "file_extension": ".py",
   "mimetype": "text/x-python",
   "name": "python",
   "nbconvert_exporter": "python",
   "pygments_lexer": "ipython3",
   "version": "3.10.6"
  },
  "orig_nbformat": 4,
  "vscode": {
   "interpreter": {
    "hash": "916dbcbb3f70747c44a77c7bcd40155683ae19c65e1c03b4aa3499c5328201f1"
   }
  }
 },
 "nbformat": 4,
 "nbformat_minor": 2
}
